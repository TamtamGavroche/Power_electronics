{
 "cells": [
  {
   "cell_type": "markdown",
   "metadata": {},
   "source": [
    "## Script for Equations of Power Elec project 2"
   ]
  },
  {
   "cell_type": "code",
   "execution_count": 2,
   "metadata": {},
   "outputs": [],
   "source": [
    "import numpy as np\n",
    "import matplotlib.pyplot as plt"
   ]
  },
  {
   "cell_type": "code",
   "execution_count": 3,
   "metadata": {},
   "outputs": [],
   "source": [
    "######################\n",
    "#   CONSTANT VALUES  #\n",
    "######################\n",
    "\n",
    "P_out_nom = 50     # W\n",
    "P_out_min = 10     # W\n",
    "U_in_nom  = 50     # V\n",
    "U_in_min  = 30     # V\n",
    "U_in_max  = 60     # V\n",
    "U_out     = 24     # V\n",
    "D_U_out   = 0.02   # (2%)\n",
    "f_sw      = 360000 # Hz\n",
    "\n",
    "##########################\n",
    "# PREVIOUS REPORT VALUES #\n",
    "##########################\n",
    "\n",
    "L_select     = 51.59e-6# H\n",
    "Delta_IL_w1  = 0.87    # A\n",
    "IL_w1_avg    = 2.80    # A\n",
    "IL_w1_rms    = 2.82    # A\n",
    "IL_w1_peak   = 3.24    # A\n",
    "IL_w2_rms    = 2.24    # A\n",
    "P_L_w1_loss_goal =1    #% max val\n",
    "P_L_w2_loss_goal =1    #% max val\n",
    "Delta_T_goal = 50      #K max val\n",
    "N            = 1.15    # transformer ratio"
   ]
  },
  {
   "cell_type": "markdown",
   "metadata": {},
   "source": [
    "## Inductor specifications\n",
    "### Q1-3: \n",
    "- Maximal Value for peak flux density\n",
    "- Estimation window utilization factor\n",
    "- Target current density"
   ]
  },
  {
   "cell_type": "code",
   "execution_count": 4,
   "metadata": {},
   "outputs": [],
   "source": [
    "B_pk_max = 450e-3 # T\n",
    "# Value from the datasheet\n",
    "K_u      = 0.4\n",
    "# estimated value between 0.4 and 0.7\n",
    "J_w      = 4e6    # A/m^2"
   ]
  },
  {
   "cell_type": "markdown",
   "metadata": {},
   "source": [
    "### Q4 : Energy handling capability of inductor"
   ]
  },
  {
   "cell_type": "code",
   "execution_count": 5,
   "metadata": {},
   "outputs": [
    {
     "name": "stdout",
     "output_type": "stream",
     "text": [
      "Energy handling capability I²L = 0.54 mJ\n"
     ]
    }
   ],
   "source": [
    "Energy = IL_w1_peak**2 * L_select\n",
    "print(\"Energy handling capability I²L = {:.2f} mJ\".format(Energy*1e3))"
   ]
  },
  {
   "cell_type": "markdown",
   "metadata": {},
   "source": [
    "### Q5 : Air gap estimate"
   ]
  },
  {
   "cell_type": "code",
   "execution_count": 6,
   "metadata": {},
   "outputs": [
    {
     "name": "stdout",
     "output_type": "stream",
     "text": [
      "Chosen core shape: E25/13/7\n"
     ]
    }
   ],
   "source": [
    "Chosen_core_shape = \"E25/13/7\"  #model name\n",
    "print(\"Chosen core shape: {}\".format(Chosen_core_shape))\n",
    "lg_estimate       = 0.028       # m"
   ]
  },
  {
   "cell_type": "markdown",
   "metadata": {},
   "source": [
    "## Core selection with the area product method\n",
    "### Q6 : Minimal area product"
   ]
  },
  {
   "cell_type": "code",
   "execution_count": 7,
   "metadata": {},
   "outputs": [
    {
     "name": "stdout",
     "output_type": "stream",
     "text": [
      "Minimum area product A_p_min = 1106.87 mm^4\n"
     ]
    }
   ],
   "source": [
    "#A_p_min = A_w_min * A_c_min = window cross section * core cross section\n",
    "A_p_min = (L_select * IL_w1_peak) / (K_u * B_pk_max * J_w)* (IL_w1_rms + IL_w2_rms/N)\n",
    "print(\"Minimum area product A_p_min = {:.2f} mm^4\".format(A_p_min*1e12))"
   ]
  },
  {
   "cell_type": "markdown",
   "metadata": {},
   "source": [
    "### Q7 : Area product of preselected core"
   ]
  },
  {
   "cell_type": "code",
   "execution_count": 8,
   "metadata": {},
   "outputs": [
    {
     "name": "stdout",
     "output_type": "stream",
     "text": [
      "Values updated of the selected core shape: E25/13/7\n"
     ]
    }
   ],
   "source": [
    "if A_p_min > 1084e-12: #E25/10/7\n",
    "    A_c_min_select = 51.5e-6      # m²\n",
    "    A_e_select     = 52.5e-6      # m²\n",
    "    A_w_select     = 61.0e-6      # m²\n",
    "    A_p_select     = 3141.5e-6    # m²\n",
    "    MLT            = 50.0e-3      # m\n",
    "    G              = 11.15*2*1e-3 # m core window length\n",
    "    Chosen_core_shape = \"E25/13/7\"  #model name\n",
    "    lg_estimate       = 2.8e-3       # m\n",
    "else: # E20/10/6\n",
    "    A_c_min_select = 31.9e-6      # m²\n",
    "    A_e_select     = 32.0e-6      # m²\n",
    "    A_w_select     = 34.0e-6      # m²\n",
    "    A_p_select     = 1084.6e-6    # m²\n",
    "    MLT            = 41.2e-3      # m\n",
    "    G              = 7*2*1e-3 # m core window length\n",
    "    Chosen_core_shape = \"E20/10/6\"  #model name\n",
    "    lg_estimate       = 5e-3       # m\n",
    "print(\"Values updated of the selected core shape: {}\".format(Chosen_core_shape))"
   ]
  },
  {
   "cell_type": "markdown",
   "metadata": {},
   "source": [
    "## Magnet wire selection\n",
    "### Q8: Cross-sectional Area"
   ]
  },
  {
   "cell_type": "code",
   "execution_count": 9,
   "metadata": {},
   "outputs": [
    {
     "name": "stdout",
     "output_type": "stream",
     "text": [
      "25 strands of diam 0.2 0.7853981633974485\n",
      "45 strands of diam 0.2 1.4137166941154071\n"
     ]
    }
   ],
   "source": [
    "def calculate_A(diam, nbr):\n",
    "    return nbr*np.pi*(diam/2)**2\n",
    "\n",
    "print(\"25 strands of diam 0.2\", calculate_A(0.2, 25))\n",
    "print(\"45 strands of diam 0.2\", calculate_A(0.2, 45))\n"
   ]
  },
  {
   "cell_type": "code",
   "execution_count": 10,
   "metadata": {},
   "outputs": [
    {
     "name": "stdout",
     "output_type": "stream",
     "text": [
      "Min cross section area of the winding 1 A_L_w1_min = 0.70 mm²\n",
      "Min cross section area of the winding 2 A_L_w2_min = 0.56 mm²\n"
     ]
    }
   ],
   "source": [
    "A_L_w1_min = IL_w1_rms / J_w\n",
    "A_L_w2_min = IL_w2_rms / J_w\n",
    "\n",
    "print(\"Min cross section area of the winding 1 A_L_w1_min = {:.2f} mm²\".format(A_L_w1_min*1e6))\n",
    "print(\"Min cross section area of the winding 2 A_L_w2_min = {:.2f} mm²\".format(A_L_w2_min*1e6))"
   ]
  },
  {
   "cell_type": "markdown",
   "metadata": {},
   "source": [
    "### Q9: skin depth"
   ]
  },
  {
   "cell_type": "code",
   "execution_count": 11,
   "metadata": {},
   "outputs": [],
   "source": [
    "#Copper informations at 100°C\n",
    "rho_Cu   = 2.086e-8     # Ohm.m\n",
    "mu_0     = 4*np.pi*1e-7 # H/m\n",
    "mu_Cu    = 0.999991     # H/m"
   ]
  },
  {
   "cell_type": "code",
   "execution_count": 12,
   "metadata": {},
   "outputs": [
    {
     "name": "stdout",
     "output_type": "stream",
     "text": [
      "Skin depth = 0.12 mm\n",
      "Max diameter of the wire = 0.24 mm\n"
     ]
    }
   ],
   "source": [
    "skin_depth = np.sqrt(rho_Cu / (np.pi * f_sw * mu_0 * mu_Cu))\n",
    "print(\"Skin depth = {:.2f} mm\".format(skin_depth*1e3))\n",
    "\n",
    "max_diam   = 2*skin_depth\n",
    "print(\"Max diameter of the wire = {:.2f} mm\".format(max_diam*1e3))"
   ]
  },
  {
   "cell_type": "markdown",
   "metadata": {},
   "source": [
    "### Q10: Wire selection"
   ]
  },
  {
   "cell_type": "code",
   "execution_count": 13,
   "metadata": {},
   "outputs": [
    {
     "name": "stdout",
     "output_type": "stream",
     "text": [
      "Selected wire 1: 6, \n",
      "with cross section A_L_w1_select = 0.785 mm² \n",
      "and current density = 3.59 A/mm²\n",
      "Selected wire 2: 6, \n",
      "with cross section A_L_w2_select = 0.785 mm² \n",
      "and current density = 2.85 A/mm²\n"
     ]
    }
   ],
   "source": [
    "Wire_select_1   = 6\n",
    "A_L_w1_select   = 0.785e-6  # m²\n",
    "J_L_w1_select   = IL_w1_rms / A_L_w1_select\n",
    "Wire_select_2   = 6\n",
    "A_L_w2_select   = 0.785e-6  # m²\n",
    "J_L_w2_select   = IL_w2_rms / A_L_w2_select\n",
    "\n",
    "print(\"Selected wire 1: {}, \\nwith cross section A_L_w1_select = {:.3f} mm² \\nand current density = {:.2f} A/mm²\".format(Wire_select_1, A_L_w1_select*1e6, J_L_w1_select*1e-6))\n",
    "print(\"Selected wire 2: {}, \\nwith cross section A_L_w2_select = {:.3f} mm² \\nand current density = {:.2f} A/mm²\".format(Wire_select_2, A_L_w2_select*1e6, J_L_w2_select*1e-6))"
   ]
  },
  {
   "cell_type": "markdown",
   "metadata": {},
   "source": [
    "### Q11: Relative resistance of selected wire"
   ]
  },
  {
   "cell_type": "code",
   "execution_count": 14,
   "metadata": {},
   "outputs": [
    {
     "name": "stdout",
     "output_type": "stream",
     "text": [
      "Mean length turn MLT = 5.00 cm\n",
      "missing relative resistance\n",
      "Resistance of the winding 1: R_IL_w1 = 2.66 Ohm/cm\n",
      "Resistance of the winding 2: R_IL_w2 = 2.66 Ohm/cm\n"
     ]
    }
   ],
   "source": [
    "#MLT    =50e-3 # m (mean length turn from datasheet)\n",
    "\n",
    "print(\"Mean length turn MLT = {:.2f} cm\".format(MLT*1e2))\n",
    "print(\"missing relative resistance\")\n",
    "R_IL_w1 = rho_Cu / A_L_w1_select\n",
    "R_IL_w2 = rho_Cu / A_L_w2_select\n",
    "print(\"Resistance of the winding 1: R_IL_w1 = {:.2f} Ohm/cm\".format(R_IL_w1*1e2))\n",
    "print(\"Resistance of the winding 2: R_IL_w2 = {:.2f} Ohm/cm\".format(R_IL_w2*1e2))"
   ]
  },
  {
   "cell_type": "markdown",
   "metadata": {},
   "source": [
    "## Calculation of number of turns and air gap length"
   ]
  },
  {
   "cell_type": "markdown",
   "metadata": {},
   "source": [
    "### Q12: number of turns"
   ]
  },
  {
   "cell_type": "code",
   "execution_count": 15,
   "metadata": {},
   "outputs": [
    {
     "name": "stdout",
     "output_type": "stream",
     "text": [
      "Max number of turns winding 1 N1_max = 31\n",
      "Max number of turns winding 2 N2_max = 31\n"
     ]
    }
   ],
   "source": [
    "N1_max   = K_u * A_w_select / A_L_w1_select\n",
    "N2_max   = K_u * A_w_select / A_L_w2_select\n",
    "\n",
    "print(\"Max number of turns winding 1 N1_max = {:.0f}\".format(N1_max))\n",
    "print(\"Max number of turns winding 2 N2_max = {:.0f}\".format(N2_max))"
   ]
  },
  {
   "cell_type": "markdown",
   "metadata": {},
   "source": [
    "### Q13 : Required air gap length"
   ]
  },
  {
   "cell_type": "code",
   "execution_count": 16,
   "metadata": {},
   "outputs": [
    {
     "name": "stdout",
     "output_type": "stream",
     "text": [
      "Calculated lg = 64.01 µm\n",
      "Calculated number of Kapton tape layers = 0.985 is approximated to 1\n",
      "Selected lg = 65.00 µm with 1 layers of Kapton\n"
     ]
    }
   ],
   "source": [
    "Kapton_thickness = 65e-6 # m (from report is given)\n",
    "lg_cal = mu_0*L_select*IL_w1_peak**2/(A_e_select* B_pk_max**2)\n",
    "print(\"Calculated lg = {:.2f} µm\".format(lg_cal*1e6))\n",
    "\n",
    "kapton_tape_layers = lg_cal / Kapton_thickness\n",
    "print(\"Calculated number of Kapton tape layers = {:.3f} is approximated to {:.0f}\".format(kapton_tape_layers, kapton_tape_layers))\n",
    "\n",
    "#Approximation of the number of Kapton tape layers\n",
    "digit_kapton_layer = kapton_tape_layers - int(kapton_tape_layers)\n",
    "if digit_kapton_layer >= 0.5: kapton_tape_layers = int(kapton_tape_layers) + 1\n",
    "else: kapton_tape_layers = int(kapton_tape_layers)\n",
    "\n",
    "lg_select = kapton_tape_layers * Kapton_thickness\n",
    "print(\"Selected lg = {:.2f} µm with {:.0f} layers of Kapton\".format(lg_select*1e6, kapton_tape_layers))"
   ]
  },
  {
   "cell_type": "markdown",
   "metadata": {},
   "source": [
    "### Q14: Fringing flux factor"
   ]
  },
  {
   "cell_type": "code",
   "execution_count": 17,
   "metadata": {},
   "outputs": [
    {
     "name": "stdout",
     "output_type": "stream",
     "text": [
      "Fringe factor F_fringe = 1.06\n"
     ]
    }
   ],
   "source": [
    "#G = 14e-3     #m length of core window\n",
    "F_fringe = 1 + lg_select / np.sqrt(A_e_select) * np.log(2*G/lg_select)\n",
    "print(\"Fringe factor F_fringe = {:.2f}\".format(F_fringe))"
   ]
  },
  {
   "cell_type": "markdown",
   "metadata": {},
   "source": [
    "### Q15: Adjustment of number of turns due to increased inductance"
   ]
  },
  {
   "cell_type": "code",
   "execution_count": 18,
   "metadata": {},
   "outputs": [
    {
     "name": "stdout",
     "output_type": "stream",
     "text": [
      "Selected number of turns winding 1 N1_selected = 7\n",
      "Selected number of turns winding 2 N2_selected = 6\n",
      "Final inductance value L_final = 48.73 µH\n"
     ]
    }
   ],
   "source": [
    "reluct_gap   = lg_select / (mu_0 * A_e_select)\n",
    "temp         = B_pk_max * A_e_select * reluct_gap\n",
    "N1_select    = np.sqrt(L_select * reluct_gap)          #temp / IL_w1_peak\n",
    "N2_select    = N1_select / N\n",
    "\n",
    "print(\"Selected number of turns winding 1 N1_selected = {:.0f}\".format(N1_select))\n",
    "print(\"Selected number of turns winding 2 N2_selected = {:.0f}\".format(N2_select))\n",
    "\n",
    "L_final = L_select/ F_fringe\n",
    "print(\"Final inductance value L_final = {:.2f} µH\".format(L_final*1e6))"
   ]
  },
  {
   "cell_type": "markdown",
   "metadata": {},
   "source": [
    "## Verification of design constraints\n",
    "\n",
    "### Q16: AC and peak flux density"
   ]
  },
  {
   "cell_type": "code",
   "execution_count": 19,
   "metadata": {},
   "outputs": [
    {
     "name": "stdout",
     "output_type": "stream",
     "text": [
      "Peak flux density B_pk = 446.58 mT\n",
      "AC flux density B_ac = 222.64 mT\n"
     ]
    }
   ],
   "source": [
    "lambda_1 = U_in_max / f_sw\n",
    "B_ac = lambda_1 / (N1_select * A_e_select * 2)\n",
    "B_pk = (N1_select * IL_w1_peak) / (A_e_select * reluct_gap)\n",
    "B_rms = B_pk / np.sqrt(2)\n",
    "\n",
    "print(\"Peak flux density B_pk = {:.2f} mT\".format(B_pk*1e3))\n",
    "print(\"AC flux density B_ac = {:.2f} mT\".format(B_ac*1e3))\n",
    "#print(\"Delta flux density B_pk_2 = {:.2f} mT\".format(B_delta*1e3))\n"
   ]
  },
  {
   "cell_type": "markdown",
   "metadata": {},
   "source": [
    "### Q17: Window utilization factor"
   ]
  },
  {
   "cell_type": "code",
   "execution_count": 20,
   "metadata": {},
   "outputs": [
    {
     "name": "stdout",
     "output_type": "stream",
     "text": [
      "Calculated Ku = 0.17\n"
     ]
    }
   ],
   "source": [
    "A_occupied = N1_select * A_L_w1_select + N2_select * A_L_w2_select\n",
    "Ku_cal = A_occupied / A_w_select\n",
    "\n",
    "print(\"Calculated Ku = {:.2f}\".format(Ku_cal))"
   ]
  },
  {
   "cell_type": "markdown",
   "metadata": {},
   "source": [
    "### Q18: DC winding resistance"
   ]
  },
  {
   "cell_type": "code",
   "execution_count": 21,
   "metadata": {},
   "outputs": [
    {
     "name": "stdout",
     "output_type": "stream",
     "text": [
      "Resistance winding 1 R_l1 = 9.47 mOhm\n",
      "Resistance winding 2 R_l2 = 8.24 mOhm\n"
     ]
    }
   ],
   "source": [
    "R_l1 = rho_Cu * N1_select * MLT / A_L_w1_select\n",
    "R_l2 = rho_Cu * N2_select * MLT / A_L_w2_select\n",
    "\n",
    "print(\"Resistance winding 1 R_l1 = {:.2f} mOhm\".format(R_l1*1e3))\n",
    "print(\"Resistance winding 2 R_l2 = {:.2f} mOhm\".format(R_l2*1e3))"
   ]
  },
  {
   "cell_type": "markdown",
   "metadata": {},
   "source": [
    "### Q19: DC Copper Losses"
   ]
  },
  {
   "cell_type": "code",
   "execution_count": 40,
   "metadata": {},
   "outputs": [
    {
     "name": "stdout",
     "output_type": "stream",
     "text": [
      "Copper losses winding 1 P_cu_w1 = 17.278 mW\n",
      "Copper losses winding 2 P_cu_w2 = 8.243 mW\n",
      "Copper losses winding 1 P_cu_w1 = 0.035 %\n",
      "Copper losses winding 2 P_cu_w2 = 0.016 %\n"
     ]
    }
   ],
   "source": [
    "P_cu_w1 = rho_Cu * MLT * IL_w1_rms**2 * N1_select**2 / (A_w_select * K_u)\n",
    "P_cu_w2 = rho_Cu * MLT * IL_w2_rms**2 * N2_select**2 / (A_w_select * K_u)\n",
    "P_cu_w1_percentage = P_cu_w1 / P_out_nom * 100\n",
    "P_cu_w2_percentage = P_cu_w2 / P_out_nom * 100\n",
    "\n",
    "print(\"Copper losses winding 1 P_cu_w1 = {:.3f} mW\".format(P_cu_w1*1e3))\n",
    "print(\"Copper losses winding 2 P_cu_w2 = {:.3f} mW\".format(P_cu_w2*1e3))\n",
    "print(\"Copper losses winding 1 P_cu_w1 = {:.3f} %\".format(P_cu_w1_percentage))\n",
    "print(\"Copper losses winding 2 P_cu_w2 = {:.3f} %\".format(P_cu_w2_percentage))"
   ]
  },
  {
   "cell_type": "markdown",
   "metadata": {},
   "source": [
    "### Q20: Estimation of core losses using data sheet"
   ]
  },
  {
   "cell_type": "code",
   "execution_count": 33,
   "metadata": {},
   "outputs": [
    {
     "name": "stdout",
     "output_type": "stream",
     "text": [
      "Volume of the core V_core = 3020.00 mm³\n",
      "Core losses P_c_datasheet = 7.8520000000 W\n",
      "Core losses P_c_datasheet = 15.7040000000 %\n"
     ]
    }
   ],
   "source": [
    "#V_core = 1930e-9 # m³ #DATASHEET E20/10/6 given in mm³\n",
    "V_core = 3020e-9 # m³ #DATASHEET E25/13/7 given in mm³\n",
    "print(\"Volume of the core V_core = {:.2f} mm³\".format(V_core*1e9))\n",
    "P_v_table = 2.6*1e3 # kW/m³\n",
    "\n",
    "P_c_datasheet = P_v_table * V_core*1e3 # W\n",
    "P_c_datasheet_percentage = P_c_datasheet / P_out_nom * 100\n",
    "print(\"Core losses P_c_datasheet = {:.10f} W\".format(P_c_datasheet))\n",
    "print(\"Core losses P_c_datasheet = {:.10f} %\".format(P_c_datasheet_percentage))"
   ]
  },
  {
   "cell_type": "markdown",
   "metadata": {},
   "source": [
    "### Q21: estimation of core losses using Steinmetz equation"
   ]
  },
  {
   "cell_type": "code",
   "execution_count": 38,
   "metadata": {},
   "outputs": [
    {
     "name": "stdout",
     "output_type": "stream",
     "text": [
      "Core losses P_c = 11.74 kW/mm^3\n",
      "Core losses P_c = 11.7372528614 W\n"
     ]
    }
   ],
   "source": [
    "Core_type = 'N87'\n",
    "B_b = 50e-3 # T (from assignment)\n",
    "P_v = 68.98 # kW/mm³ (from assignment)\n",
    "alpha = 1.96\n",
    "beta = 2.46\n",
    "f_b = 300e3 # Hz \n",
    "\n",
    "#P_c = P_v * (f_sw/f_b)**alpha * (B_pk/B_b)**beta\n",
    "P_c_relative = P_v * (f_sw/f_b)**alpha * (B_ac/B_b)**beta\n",
    "print(\"Core losses P_c = {:.2f} kW/mm^3\".format(P_c))\n",
    "P_c = P_c_relative * V_core * 1e3 # W\n",
    "print(\"Core losses P_c = {:.10f} W\".format(P_c))\n"
   ]
  },
  {
   "cell_type": "markdown",
   "metadata": {},
   "source": [
    "### Q22: Thermal consideration"
   ]
  },
  {
   "cell_type": "code",
   "execution_count": 39,
   "metadata": {},
   "outputs": [
    {
     "name": "stdout",
     "output_type": "stream",
     "text": [
      "Temperature rise Delta_T = 470.51 K\n"
     ]
    }
   ],
   "source": [
    "#R_th = 46 #K/W for E20/10/6\n",
    "R_th = 40 #K/W for E25/13/7\n",
    "P_loss = P_c + P_cu_w1 + P_cu_w2\n",
    "Delta_T = P_loss * R_th\n",
    "print(\"Temperature rise Delta_T = {:.2f} K\".format(Delta_T))"
   ]
  },
  {
   "cell_type": "markdown",
   "metadata": {},
   "source": [
    "### Q23: Inductor design summary\n",
    "\n",
    "### Q24: Overall efficiency of the two-switch flyback converter"
   ]
  },
  {
   "cell_type": "code",
   "execution_count": 44,
   "metadata": {},
   "outputs": [
    {
     "name": "stdout",
     "output_type": "stream",
     "text": [
      "nominal inductance L_nom = 51.59 µH\n",
      "effective current L_eff = 2.82 A\n",
      "effective current L_eff = 2.24 A\n",
      "current ripple L_delta = 0.87 A\n",
      "ripple frequency L_f = 360.00 kHz\n",
      "core shape and size: E25/13/7\n",
      "coil former: B66206B1110T001\n",
      "core material: N87\n",
      "peak flux density: 446.58 mT\n",
      "air gap length: 0.06 mm\n",
      "number of Kapton layers: 1\n",
      "wire 1 cross sectional area: 0.79 mm²\n",
      "number of turns for winding 1: 7.129430808892224\n",
      "wire 2 cross sectional area: 0.79 mm²\n",
      "number of turns for winding 2: 6.19950505121063\n",
      "core losses: 11.74 W\n",
      "copper losses: 0.03 W\n",
      "total inductor losses in % of P_out_nom: 23.53 %\n",
      "temperature rise: 470.51 K\n"
     ]
    }
   ],
   "source": [
    "print(\"nominal inductance L_nom = {:.2f} µH\".format(L_select*1e6))\n",
    "print('effective current L_eff = {:.2f} A'.format(IL_w1_rms))\n",
    "print('effective current L_eff = {:.2f} A'.format(IL_w2_rms))\n",
    "print('current ripple L_delta = {:.2f} A'.format(Delta_IL_w1))\n",
    "print('ripple frequency L_f = {:.2f} kHz'.format(f_sw/1000))\n",
    "\n",
    "coil_former = 'B66206B1110T001'\n",
    "print('core shape and size: {}'.format(Chosen_core_shape))\n",
    "print('coil former: {}'.format(coil_former))\n",
    "print('core material: {}'.format(Core_type))\n",
    "print('peak flux density: {:.2f} mT'.format(B_pk*1e3))\n",
    "print('air gap length: {:.2f} mm'.format(lg_select*1e3))\n",
    "print('number of Kapton layers: {}'.format(kapton_tape_layers))\n",
    "\n",
    "print('wire 1 cross sectional area: {:.2f} mm²'.format(A_L_w1_select*1e6))\n",
    "print('number of turns for winding 1: {}'.format(N1_select))\n",
    "print('wire 2 cross sectional area: {:.2f} mm²'.format(A_L_w2_select*1e6))\n",
    "print('number of turns for winding 2: {}'.format(N2_select))\n",
    "\n",
    "print('core losses: {:.2f} W'.format(P_c))\n",
    "print('copper losses: {:.2f} W'.format(P_cu_w1 + P_cu_w2))\n",
    "print('total inductor losses in % of P_out_nom: {:.2f} %'.format(P_loss / P_out_nom * 100))\n",
    "print('temperature rise: {:.2f} K'.format(Delta_T))"
   ]
  },
  {
   "cell_type": "code",
   "execution_count": null,
   "metadata": {},
   "outputs": [],
   "source": []
  },
  {
   "cell_type": "markdown",
   "metadata": {},
   "source": [
    "## Coupled inductor building procedure\n",
    "### Q25: Wiring of the coupled inductor"
   ]
  },
  {
   "cell_type": "code",
   "execution_count": null,
   "metadata": {},
   "outputs": [],
   "source": []
  },
  {
   "cell_type": "markdown",
   "metadata": {},
   "source": [
    "### Q26: Air gap and assembly of the coupled inductor"
   ]
  },
  {
   "cell_type": "code",
   "execution_count": null,
   "metadata": {},
   "outputs": [],
   "source": []
  },
  {
   "cell_type": "markdown",
   "metadata": {},
   "source": [
    "## Coupled inductor measuring procedure\n",
    "\n",
    "### Q27: Verifying the wiring direction"
   ]
  },
  {
   "cell_type": "code",
   "execution_count": null,
   "metadata": {},
   "outputs": [],
   "source": []
  },
  {
   "cell_type": "markdown",
   "metadata": {},
   "source": [
    "### Q28: Magnetizing and leakage inductance measurement using the RLC meter"
   ]
  },
  {
   "cell_type": "code",
   "execution_count": null,
   "metadata": {},
   "outputs": [],
   "source": []
  },
  {
   "cell_type": "markdown",
   "metadata": {},
   "source": [
    "### Q29: Winding resistance measurement using the RLC meter"
   ]
  },
  {
   "cell_type": "code",
   "execution_count": null,
   "metadata": {},
   "outputs": [],
   "source": []
  },
  {
   "cell_type": "markdown",
   "metadata": {},
   "source": [
    "### Q30: Magnetizing and leakage inductance measurement using the BODE100"
   ]
  },
  {
   "cell_type": "code",
   "execution_count": null,
   "metadata": {},
   "outputs": [],
   "source": []
  },
  {
   "cell_type": "markdown",
   "metadata": {},
   "source": [
    "### Q31: Winding resistance measurement using BODE100"
   ]
  },
  {
   "cell_type": "code",
   "execution_count": null,
   "metadata": {},
   "outputs": [],
   "source": []
  },
  {
   "cell_type": "markdown",
   "metadata": {},
   "source": [
    "### Q32: Saturation measurements"
   ]
  },
  {
   "cell_type": "code",
   "execution_count": null,
   "metadata": {},
   "outputs": [],
   "source": []
  },
  {
   "cell_type": "markdown",
   "metadata": {},
   "source": [
    "### Q33: Heat-Run test"
   ]
  },
  {
   "cell_type": "code",
   "execution_count": null,
   "metadata": {},
   "outputs": [],
   "source": []
  },
  {
   "cell_type": "markdown",
   "metadata": {},
   "source": [
    "### Q34: Soldering\n",
    "\n",
    "just ask for picture of final inductance"
   ]
  }
 ],
 "metadata": {
  "kernelspec": {
   "display_name": "Python 3",
   "language": "python",
   "name": "python3"
  },
  "language_info": {
   "codemirror_mode": {
    "name": "ipython",
    "version": 3
   },
   "file_extension": ".py",
   "mimetype": "text/x-python",
   "name": "python",
   "nbconvert_exporter": "python",
   "pygments_lexer": "ipython3",
   "version": "3.12.0"
  }
 },
 "nbformat": 4,
 "nbformat_minor": 2
}
