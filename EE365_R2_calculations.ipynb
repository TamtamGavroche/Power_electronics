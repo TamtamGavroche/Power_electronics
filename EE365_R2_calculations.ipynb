{
 "cells": [
  {
   "cell_type": "markdown",
   "metadata": {},
   "source": [
    "## Script for Equations of Power Elec project 2"
   ]
  },
  {
   "cell_type": "code",
   "execution_count": 9,
   "metadata": {},
   "outputs": [],
   "source": [
    "import numpy as np\n",
    "import matplotlib.pyplot as plt"
   ]
  },
  {
   "cell_type": "code",
   "execution_count": 1,
   "metadata": {},
   "outputs": [],
   "source": [
    "######################\n",
    "#   CONSTANT VALUES  #\n",
    "######################\n",
    "\n",
    "P_out_nom = 50     # W\n",
    "P_out_min = 10     # W\n",
    "U_in_nom  = 50     # V\n",
    "U_in_min  = 30     # V\n",
    "U_in_max  = 60     # V\n",
    "U_out     = 24     # V\n",
    "D_U_out   = 0.02   # (2%)\n",
    "f_sw      = 360000 # Hz\n",
    "\n",
    "##########################\n",
    "# PREVIOUS REPORT VALUES #\n",
    "##########################\n",
    "\n",
    "L_select     = 51.59e-6# H\n",
    "Delta_IL_w1  = 0.87    # A\n",
    "IL_w1_avg    = 2.80    # A\n",
    "IL_w1_rms    = 2.82    # A\n",
    "IL_w1_peak   = 3.24    # A\n",
    "IL_w2_rms    = 2.24    # A\n",
    "P_L_w1_loss_goal =1    #% max val\n",
    "P_L_w2_loss_goal =1    #% max val\n",
    "Delta_T_goal = 50      #K max val\n",
    "N            = 1.15    # transformer ratio"
   ]
  },
  {
   "cell_type": "markdown",
   "metadata": {},
   "source": [
    "## Inductor specifications\n",
    "### Q1-3: \n",
    "- Maximal Value for peak flux density\n",
    "- Estimation window utilization factor\n",
    "- Target current density"
   ]
  },
  {
   "cell_type": "code",
   "execution_count": 2,
   "metadata": {},
   "outputs": [],
   "source": [
    "B_pk_max = 450e-3 # T\n",
    "# Value from the datasheet\n",
    "K_u      = 0.6\n",
    "# estimated value between 0.4 and 0.7\n",
    "J_w      = 4e6    # A/m^2"
   ]
  },
  {
   "cell_type": "markdown",
   "metadata": {},
   "source": [
    "### Q4 : Energy handling capability of inductor"
   ]
  },
  {
   "cell_type": "code",
   "execution_count": 3,
   "metadata": {},
   "outputs": [
    {
     "name": "stdout",
     "output_type": "stream",
     "text": [
      "Energy handling capability I²L = 0.54 mJ\n"
     ]
    }
   ],
   "source": [
    "Energy = IL_w1_peak**2 * L_select\n",
    "print(\"Energy handling capability I²L = {:.2f} mJ\".format(Energy*1e3))"
   ]
  },
  {
   "cell_type": "markdown",
   "metadata": {},
   "source": [
    "### Q5 : Air gap estimate"
   ]
  },
  {
   "cell_type": "code",
   "execution_count": 4,
   "metadata": {},
   "outputs": [
    {
     "name": "stdout",
     "output_type": "stream",
     "text": [
      "Chosen core shape: E20/10/6\n"
     ]
    }
   ],
   "source": [
    "Chosen_core_shape = \"E20/10/6\"  #model name\n",
    "print(\"Chosen core shape: {}\".format(Chosen_core_shape))\n",
    "lg_estimate       = 0.05        # m"
   ]
  },
  {
   "cell_type": "markdown",
   "metadata": {},
   "source": [
    "## Core selection with the area product method\n",
    "### Q6 : Minimal area product"
   ]
  },
  {
   "cell_type": "code",
   "execution_count": 5,
   "metadata": {},
   "outputs": [
    {
     "name": "stdout",
     "output_type": "stream",
     "text": [
      "Minimum area product A_p_min = 737.92 mm^4\n"
     ]
    }
   ],
   "source": [
    "#A_p_min = A_w_min * A_c_min = window cross section * core cross section\n",
    "A_p_min = (L_select * IL_w1_peak) / (K_u * B_pk_max * J_w)* (IL_w1_rms + IL_w2_rms/N)\n",
    "print(\"Minimum area product A_p_min = {:.2f} mm^4\".format(A_p_min*1e12))"
   ]
  },
  {
   "cell_type": "markdown",
   "metadata": {},
   "source": [
    "### Q7 : Area product of preselected core"
   ]
  },
  {
   "cell_type": "code",
   "execution_count": 6,
   "metadata": {},
   "outputs": [
    {
     "name": "stdout",
     "output_type": "stream",
     "text": [
      "Values updated of the selected core shape\n"
     ]
    }
   ],
   "source": [
    "A_c_min_select = 31.99e-6   # m²\n",
    "A_e_select     = 32.1e-6    # m²\n",
    "A_w_select     = 34.0e-6    # m²\n",
    "A_p_select     = 1084.6e-6  # m²\n",
    "print(\"Values updated of the selected core shape\")"
   ]
  },
  {
   "cell_type": "markdown",
   "metadata": {},
   "source": [
    "## Magnet wire selection\n",
    "### Q8: Cross-sectional Area"
   ]
  },
  {
   "cell_type": "code",
   "execution_count": 7,
   "metadata": {},
   "outputs": [
    {
     "name": "stdout",
     "output_type": "stream",
     "text": [
      "Min cross section area of the winding 1 A_L_w1_min = 0.70 mm²\n",
      "Min cross section area of the winding 2 A_L_w2_min = 0.56 mm²\n"
     ]
    }
   ],
   "source": [
    "A_L_w1_min = IL_w1_rms / J_w\n",
    "A_L_w2_min = IL_w2_rms / J_w\n",
    "\n",
    "print(\"Min cross section area of the winding 1 A_L_w1_min = {:.2f} mm²\".format(A_L_w1_min*1e6))\n",
    "print(\"Min cross section area of the winding 2 A_L_w2_min = {:.2f} mm²\".format(A_L_w2_min*1e6))"
   ]
  },
  {
   "cell_type": "markdown",
   "metadata": {},
   "source": [
    "### Q9: skin depth"
   ]
  },
  {
   "cell_type": "code",
   "execution_count": 10,
   "metadata": {},
   "outputs": [],
   "source": [
    "#Copper informations at 100°C\n",
    "rho_Cu   = 2.086e-8     # Ohm.m\n",
    "mu_0     = 4*np.pi*1e-7 # H/m\n",
    "mu_Cu    = 0.999991     # H/m"
   ]
  },
  {
   "cell_type": "code",
   "execution_count": 11,
   "metadata": {},
   "outputs": [
    {
     "name": "stdout",
     "output_type": "stream",
     "text": [
      "Skin depth = 0.12 mm\n",
      "Max diameter of the wire = 0.24 mm\n"
     ]
    }
   ],
   "source": [
    "skin_depth = np.sqrt(rho_Cu / (np.pi * f_sw * mu_0 * mu_Cu))\n",
    "print(\"Skin depth = {:.2f} mm\".format(skin_depth*1e3))\n",
    "\n",
    "max_diam   = 2*skin_depth\n",
    "print(\"Max diameter of the wire = {:.2f} mm\".format(max_diam*1e3))"
   ]
  },
  {
   "cell_type": "markdown",
   "metadata": {},
   "source": [
    "### Q10: Wire selection"
   ]
  },
  {
   "cell_type": "code",
   "execution_count": 12,
   "metadata": {},
   "outputs": [
    {
     "name": "stdout",
     "output_type": "stream",
     "text": [
      "Selected wire 1: 3, \n",
      "with cross section A_L_w1_select = 0.785 mm² \n",
      "and current density = 3.59 A/mm²\n",
      "Selected wire 2: 2, \n",
      "with cross section A_L_w2_select = 0.636 mm² \n",
      "and current density = 3.52 A/mm²\n"
     ]
    }
   ],
   "source": [
    "Wire_select_1   = 3\n",
    "A_L_w1_select   = 0.785e-6  # m²\n",
    "J_L_w1_select   = IL_w1_rms / A_L_w1_select\n",
    "Wire_select_2   = 2\n",
    "A_L_w2_select   = 0.636e-6  # m²\n",
    "J_L_w2_select   = IL_w2_rms / A_L_w2_select\n",
    "\n",
    "print(\"Selected wire 1: {}, \\nwith cross section A_L_w1_select = {:.3f} mm² \\nand current density = {:.2f} A/mm²\".format(Wire_select_1, A_L_w1_select*1e6, J_L_w1_select*1e-6))\n",
    "print(\"Selected wire 2: {}, \\nwith cross section A_L_w2_select = {:.3f} mm² \\nand current density = {:.2f} A/mm²\".format(Wire_select_2, A_L_w2_select*1e6, J_L_w2_select*1e-6))"
   ]
  },
  {
   "cell_type": "markdown",
   "metadata": {},
   "source": [
    "### Q11: Relative resistance of selected wire"
   ]
  },
  {
   "cell_type": "code",
   "execution_count": 13,
   "metadata": {},
   "outputs": [
    {
     "name": "stdout",
     "output_type": "stream",
     "text": [
      "Mean length turn MLT = 4.12 cm\n",
      "missing relative resistance\n"
     ]
    }
   ],
   "source": [
    "MLT    = 41.2e-3 # m (mean length turn from datasheet)\n",
    "\n",
    "print(\"Mean length turn MLT = {:.2f} cm\".format(MLT*1e2))\n",
    "print(\"missing relative resistance\")\n",
    "R_IL_w1 = L_select * (1 + Delta_IL_w1) * rho_Cu / A_L_w1_select\n",
    "# R/IL_w1\n",
    "# R/IL_w2"
   ]
  },
  {
   "cell_type": "markdown",
   "metadata": {},
   "source": [
    "## Calculation of number of turns and air gap length"
   ]
  },
  {
   "cell_type": "markdown",
   "metadata": {},
   "source": [
    "### Q12: number of turns"
   ]
  },
  {
   "cell_type": "code",
   "execution_count": 14,
   "metadata": {},
   "outputs": [
    {
     "name": "stdout",
     "output_type": "stream",
     "text": [
      "Max number of turns winding 1 N1_max = 26\n",
      "Max number of turns winding 2 N2_max = 32\n"
     ]
    }
   ],
   "source": [
    "N1_max   = K_u * A_w_select / A_L_w1_select\n",
    "N2_max   = K_u * A_w_select / A_L_w2_select\n",
    "\n",
    "print(\"Max number of turns winding 1 N1_max = {:.0f}\".format(N1_max))\n",
    "print(\"Max number of turns winding 2 N2_max = {:.0f}\".format(N2_max))"
   ]
  },
  {
   "cell_type": "markdown",
   "metadata": {},
   "source": [
    "### Q13 : Required air gap length"
   ]
  },
  {
   "cell_type": "code",
   "execution_count": 15,
   "metadata": {},
   "outputs": [
    {
     "name": "stdout",
     "output_type": "stream",
     "text": [
      "Calculated lg = 104.70 µm\n",
      "Calculated number of Kapton tape layers = 1.611 is approximated to 2\n",
      "Selected lg = 130.00 µm with 2 layers of Kapton\n"
     ]
    }
   ],
   "source": [
    "Kapton_thickness = 65e-6 # m (from report is given)\n",
    "lg_cal = mu_0*L_select*IL_w1_peak**2/(A_e_select* B_pk_max**2)\n",
    "print(\"Calculated lg = {:.2f} µm\".format(lg_cal*1e6))\n",
    "\n",
    "kapton_tape_layers = lg_cal / Kapton_thickness\n",
    "print(\"Calculated number of Kapton tape layers = {:.3f} is approximated to {:.0f}\".format(kapton_tape_layers, kapton_tape_layers))\n",
    "\n",
    "#Approximation of the number of Kapton tape layers\n",
    "digit_kapton_layer = kapton_tape_layers - int(kapton_tape_layers)\n",
    "if digit_kapton_layer >= 0.5: kapton_tape_layers = int(kapton_tape_layers) + 1\n",
    "else: kapton_tape_layers = int(kapton_tape_layers)\n",
    "\n",
    "lg_select = kapton_tape_layers * Kapton_thickness\n",
    "print(\"Selected lg = {:.2f} µm with {:.0f} layers of Kapton\".format(lg_select*1e6, kapton_tape_layers))"
   ]
  },
  {
   "cell_type": "markdown",
   "metadata": {},
   "source": [
    "### Q14: Fringing flux factor"
   ]
  },
  {
   "cell_type": "code",
   "execution_count": 16,
   "metadata": {},
   "outputs": [
    {
     "name": "stdout",
     "output_type": "stream",
     "text": [
      "Fringe factor F_fringe = 1.12\n"
     ]
    }
   ],
   "source": [
    "G = 14e-3     #m length of core window\n",
    "F_fringe = 1 + lg_select / np.sqrt(A_e_select) * np.log(2*G/lg_select)\n",
    "print(\"Fringe factor F_fringe = {:.2f}\".format(F_fringe))"
   ]
  },
  {
   "cell_type": "markdown",
   "metadata": {},
   "source": [
    "### Q15: Adjustment of number of turns due to increased inductance"
   ]
  },
  {
   "cell_type": "code",
   "execution_count": 17,
   "metadata": {},
   "outputs": [
    {
     "name": "stdout",
     "output_type": "stream",
     "text": [
      "Selected number of turns winding 1 N1_max = 14\n",
      "Selected number of turns winding 2 N2_max = 12\n",
      "Final inductance value L_final = 45.93 µH\n"
     ]
    }
   ],
   "source": [
    "reluct_gap   = lg_select / (mu_0 * A_e_select)\n",
    "temp         = B_pk_max * A_e_select * reluct_gap\n",
    "N1_select    = temp / IL_w1_peak\n",
    "N2_select    = N1_select / N\n",
    "\n",
    "print(\"Selected number of turns winding 1 N1_max = {:.0f}\".format(N1_select))\n",
    "print(\"Selected number of turns winding 2 N2_max = {:.0f}\".format(N2_select))\n",
    "\n",
    "L_final = L_select/ F_fringe\n",
    "print(\"Final inductance value L_final = {:.2f} µH\".format(L_final*1e6))"
   ]
  },
  {
   "cell_type": "markdown",
   "metadata": {},
   "source": [
    "## Verification of design constraints\n",
    "\n",
    "### Q16: AC and peak flux density"
   ]
  },
  {
   "cell_type": "code",
   "execution_count": 24,
   "metadata": {},
   "outputs": [
    {
     "name": "stdout",
     "output_type": "stream",
     "text": [
      "Peak flux density B_pk = 450.00 mT\n",
      "AC flux density B_ac = 318.20 mT\n",
      "Delta flux density B_pk_2 = 180.68 mT\n"
     ]
    }
   ],
   "source": [
    "lambda_1 = U_in_max / f_sw\n",
    "B_delta = lambda_1 / (N1_select * A_e_select * 2)\n",
    "B_pk = (N1_select * IL_w1_peak) / (A_e_select * reluct_gap)\n",
    "B_ac = B_pk_2 / np.sqrt(2)\n",
    "\n",
    "print(\"Peak flux density B_pk = {:.2f} mT\".format(B_pk*1e3))\n",
    "print(\"AC flux density B_ac = {:.2f} mT\".format(B_ac*1e3))\n",
    "print(\"Delta flux density B_pk_2 = {:.2f} mT\".format(B_delta*1e3))\n"
   ]
  },
  {
   "cell_type": "markdown",
   "metadata": {},
   "source": [
    "### Q17: Window utilization factor"
   ]
  },
  {
   "cell_type": "code",
   "execution_count": 27,
   "metadata": {},
   "outputs": [
    {
     "name": "stdout",
     "output_type": "stream",
     "text": [
      "Calculated Ku = 0.57\n"
     ]
    }
   ],
   "source": [
    "A_occupied = N1_select * A_L_w1_select + N2_select * A_L_w2_select\n",
    "Ku_cal = A_occupied / A_w_select\n",
    "\n",
    "print(\"Calculated Ku = {:.2f}\".format(Ku_cal))"
   ]
  },
  {
   "cell_type": "markdown",
   "metadata": {},
   "source": [
    "### Q18: DC winding resistance"
   ]
  },
  {
   "cell_type": "code",
   "execution_count": 26,
   "metadata": {},
   "outputs": [
    {
     "name": "stdout",
     "output_type": "stream",
     "text": [
      "Resistance winding 1 R_l1 = 15.73 mOhm\n",
      "Resistance winding 2 R_l2 = 16.88 mOhm\n"
     ]
    }
   ],
   "source": [
    "R_l1 = rho_Cu * N1_select * MLT / A_L_w1_select\n",
    "R_l2 = rho_Cu * N2_select * MLT / A_L_w2_select\n",
    "\n",
    "print(\"Resistance winding 1 R_l1 = {:.2f} mOhm\".format(R_l1*1e3))\n",
    "print(\"Resistance winding 2 R_l2 = {:.2f} mOhm\".format(R_l2*1e3))"
   ]
  },
  {
   "cell_type": "markdown",
   "metadata": {},
   "source": [
    "### Q19: DC Copper Losses"
   ]
  },
  {
   "cell_type": "code",
   "execution_count": 28,
   "metadata": {},
   "outputs": [
    {
     "name": "stdout",
     "output_type": "stream",
     "text": [
      "Copper losses winding 1 P_cu_w1 = 0.07 W\n",
      "Copper losses winding 2 P_cu_w2 = 0.03 W\n",
      "Copper losses winding 1 P_cu_w1 = 0.14 %\n",
      "Copper losses winding 2 P_cu_w2 = 0.07 %\n"
     ]
    }
   ],
   "source": [
    "P_cu_w1 = rho_Cu * MLT * IL_w1_rms**2 * N1_select**2 / (A_w_select * K_u)\n",
    "P_cu_w2 = rho_Cu * MLT * IL_w2_rms**2 * N2_select**2 / (A_w_select * K_u)\n",
    "P_cu_w1_percentage = P_cu_w1 / P_out_nom * 100\n",
    "P_cu_w2_percentage = P_cu_w2 / P_out_nom * 100\n",
    "\n",
    "print(\"Copper losses winding 1 P_cu_w1 = {:.2f} W\".format(P_cu_w1))\n",
    "print(\"Copper losses winding 2 P_cu_w2 = {:.2f} W\".format(P_cu_w2))\n",
    "print(\"Copper losses winding 1 P_cu_w1 = {:.2f} %\".format(P_cu_w1_percentage))\n",
    "print(\"Copper losses winding 2 P_cu_w2 = {:.2f} %\".format(P_cu_w2_percentage))"
   ]
  },
  {
   "cell_type": "markdown",
   "metadata": {},
   "source": [
    "### Q20: Estimation of core losses using data sheet"
   ]
  },
  {
   "cell_type": "code",
   "execution_count": null,
   "metadata": {},
   "outputs": [],
   "source": []
  },
  {
   "cell_type": "markdown",
   "metadata": {},
   "source": [
    "### Q21: estimation of core losses using Steinmetz equation"
   ]
  },
  {
   "cell_type": "code",
   "execution_count": null,
   "metadata": {},
   "outputs": [],
   "source": []
  },
  {
   "cell_type": "markdown",
   "metadata": {},
   "source": [
    "### Q22: Thermal consideration"
   ]
  },
  {
   "cell_type": "code",
   "execution_count": null,
   "metadata": {},
   "outputs": [],
   "source": []
  },
  {
   "cell_type": "markdown",
   "metadata": {},
   "source": [
    "### Q23: Inductor design summary\n",
    "\n",
    "### Q24: Overall efficiency of the two-switch flyback converter"
   ]
  },
  {
   "cell_type": "code",
   "execution_count": null,
   "metadata": {},
   "outputs": [],
   "source": []
  },
  {
   "cell_type": "markdown",
   "metadata": {},
   "source": [
    "## Coupled inductor building procedure\n",
    "### Q25: Wiring of the coupled inductor"
   ]
  },
  {
   "cell_type": "code",
   "execution_count": null,
   "metadata": {},
   "outputs": [],
   "source": []
  },
  {
   "cell_type": "markdown",
   "metadata": {},
   "source": [
    "### Q26: Air gap and assembly of the coupled inductor"
   ]
  },
  {
   "cell_type": "code",
   "execution_count": null,
   "metadata": {},
   "outputs": [],
   "source": []
  },
  {
   "cell_type": "markdown",
   "metadata": {},
   "source": [
    "## Coupled inductor measuring procedure\n",
    "\n",
    "### Q27: Verifying the wiring direction"
   ]
  },
  {
   "cell_type": "code",
   "execution_count": null,
   "metadata": {},
   "outputs": [],
   "source": []
  },
  {
   "cell_type": "markdown",
   "metadata": {},
   "source": [
    "### Q28: Magnetizing and leakage inductance measurement using the RLC meter"
   ]
  },
  {
   "cell_type": "code",
   "execution_count": null,
   "metadata": {},
   "outputs": [],
   "source": []
  },
  {
   "cell_type": "markdown",
   "metadata": {},
   "source": [
    "### Q29: Winding resistance measurement using the RLC meter"
   ]
  },
  {
   "cell_type": "code",
   "execution_count": null,
   "metadata": {},
   "outputs": [],
   "source": []
  },
  {
   "cell_type": "markdown",
   "metadata": {},
   "source": [
    "### Q30: Magnetizing and leakage inductance measurement using the BODE100"
   ]
  },
  {
   "cell_type": "code",
   "execution_count": null,
   "metadata": {},
   "outputs": [],
   "source": []
  },
  {
   "cell_type": "markdown",
   "metadata": {},
   "source": [
    "### Q31: Winding resistance measurement using BODE100"
   ]
  },
  {
   "cell_type": "code",
   "execution_count": null,
   "metadata": {},
   "outputs": [],
   "source": []
  },
  {
   "cell_type": "markdown",
   "metadata": {},
   "source": [
    "### Q32: Saturation measurements"
   ]
  },
  {
   "cell_type": "code",
   "execution_count": null,
   "metadata": {},
   "outputs": [],
   "source": []
  },
  {
   "cell_type": "markdown",
   "metadata": {},
   "source": [
    "### Q33: Heat-Run test"
   ]
  },
  {
   "cell_type": "code",
   "execution_count": null,
   "metadata": {},
   "outputs": [],
   "source": []
  },
  {
   "cell_type": "markdown",
   "metadata": {},
   "source": [
    "### Q34: Soldering\n",
    "\n",
    "just ask for picture of final inductance"
   ]
  }
 ],
 "metadata": {
  "kernelspec": {
   "display_name": "Python 3",
   "language": "python",
   "name": "python3"
  },
  "language_info": {
   "codemirror_mode": {
    "name": "ipython",
    "version": 3
   },
   "file_extension": ".py",
   "mimetype": "text/x-python",
   "name": "python",
   "nbconvert_exporter": "python",
   "pygments_lexer": "ipython3",
   "version": "3.12.0"
  }
 },
 "nbformat": 4,
 "nbformat_minor": 2
}
