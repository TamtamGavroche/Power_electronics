{
 "cells": [
  {
   "cell_type": "markdown",
   "id": "3b7554a2",
   "metadata": {},
   "source": [
    "## Script for Equations of Power Elec project 3"
   ]
  },
  {
   "cell_type": "code",
   "execution_count": 1,
   "id": "487b248f",
   "metadata": {},
   "outputs": [],
   "source": [
    "import numpy as np\n",
    "import matplotlib.pyplot as plt"
   ]
  },
  {
   "cell_type": "code",
   "execution_count": 2,
   "id": "c4948d37",
   "metadata": {},
   "outputs": [],
   "source": [
    "######################\n",
    "#   CONSTANT VALUES  #\n",
    "######################\n",
    "\n",
    "P_out_nom = 50     # W\n",
    "P_out_min = 10     # W\n",
    "U_in_nom  = 50     # V\n",
    "U_in_min  = 30     # V\n",
    "U_in_max  = 60     # V\n",
    "U_out     = 24     # V\n",
    "D_U_out   = 0.02   # (2%)\n",
    "f_sw      = 360000 # Hz\n",
    "\n",
    "##########################\n",
    "# PREVIOUS REPORT VALUES #\n",
    "##########################\n",
    "\n",
    "L_select     = 51.59e-6# H\n",
    "Delta_IL_w1  = 0.87    # A\n",
    "IL_w1_avg    = 2.80    # A\n",
    "IL_w1_rms    = 2.82    # A\n",
    "IL_w1_peak   = 3.24    # A\n",
    "IL_w2_rms    = 2.24    # A\n",
    "P_L_w1_loss_goal =1    #% max val\n",
    "P_L_w2_loss_goal =1    #% max val\n",
    "Delta_T_goal = 50      #K max val\n",
    "\n",
    "##########################\n",
    "N            = 1.15    # transformer ratio\n",
    "D            = 0.45    # duty cycle\n",
    "#R_out        = "
   ]
  },
  {
   "cell_type": "markdown",
   "id": "cb5c699b",
   "metadata": {},
   "source": [
    "### Q1 Selection output capacitor"
   ]
  },
  {
   "cell_type": "code",
   "execution_count": 3,
   "id": "bc63701b",
   "metadata": {},
   "outputs": [
    {
     "name": "stdout",
     "output_type": "stream",
     "text": [
      "U_out_safety = 28.80 V\n"
     ]
    }
   ],
   "source": [
    "U_out_safety = U_out * 1.2 # safety margin\n",
    "print(\"U_out_safety = {:.2f} V\".format(U_out_safety))"
   ]
  },
  {
   "cell_type": "code",
   "execution_count": 4,
   "id": "39dd9dde",
   "metadata": {},
   "outputs": [
    {
     "name": "stdout",
     "output_type": "stream",
     "text": [
      "The calculated capacitor value is: 8.92 µF\n",
      "The value of the previous report is: 5.78 µF\n",
      "The nominal value of the capacitor is: 15.00 µF\n"
     ]
    }
   ],
   "source": [
    "ref = \"\"\n",
    "C_out_R1 = 5.78e-6 # F\n",
    "C_out_nom = 15e-6 # F\n",
    "C_out_freq_loss = (15 - 14.77) / 15 # 0.015\n",
    "C_out_volt_loss = 0.396 #9µF\n",
    "\n",
    "C_out_min = C_out_nom * (1 - C_out_volt_loss) * (1 - C_out_freq_loss)\n",
    "\n",
    "print(\"The calculated capacitor value is: {:.2f} µF\".format(C_out_min*1e6))\n",
    "print(\"The value of the previous report is: {:.2f} µF\".format(C_out_R1*1e6))\n",
    "print(\"The nominal value of the capacitor is: {:.2f} µF\".format(C_out_nom*1e6))"
   ]
  },
  {
   "cell_type": "code",
   "execution_count": 5,
   "id": "118923d1",
   "metadata": {},
   "outputs": [
    {
     "name": "stdout",
     "output_type": "stream",
     "text": [
      "C_out_freq_loss: 0.028\n",
      "The calculated capacitor value is: 5.97 µF\n",
      "The value of the previous report is: 5.78 µF\n",
      "The nominal value of the capacitor is: 10.00 µF\n"
     ]
    }
   ],
   "source": [
    "ref = \"\"\n",
    "C_out_R1 = 5.78e-6 # F\n",
    "C_out_nom = 10e-6 # F\n",
    "C_out_freq_loss = (10 - 9.72) / 10 # 0.028\n",
    "print(\"C_out_freq_loss: {:.3f}\".format(C_out_freq_loss))\n",
    "C_out_volt_loss = 0.386\n",
    "\n",
    "C_out_min = C_out_nom * (1 - C_out_volt_loss) * (1 - C_out_freq_loss)\n",
    "\n",
    "print(\"The calculated capacitor value is: {:.2f} µF\".format(C_out_min*1e6))\n",
    "print(\"The value of the previous report is: {:.2f} µF\".format(C_out_R1*1e6))\n",
    "print(\"The nominal value of the capacitor is: {:.2f} µF\".format(C_out_nom*1e6))"
   ]
  },
  {
   "cell_type": "markdown",
   "id": "70a81f41",
   "metadata": {},
   "source": [
    "### Q2 ESR and IMPEDANCE"
   ]
  },
  {
   "cell_type": "code",
   "execution_count": 6,
   "id": "77e6f7b1",
   "metadata": {},
   "outputs": [
    {
     "name": "stdout",
     "output_type": "stream",
     "text": [
      "ESR: 4.04 mOhm\n",
      "Impedance: 45.67 mOhm\n"
     ]
    }
   ],
   "source": [
    "C_out_ESR = 4.04e-3 # Ohm\n",
    "C_out_impedance = 45.67e-3 # Ohm\n",
    "\n",
    "print(\"ESR: {:.2f} mOhm\".format(C_out_ESR*1e3))\n",
    "print(\"Impedance: {:.2f} mOhm\".format(C_out_impedance*1e3))"
   ]
  },
  {
   "cell_type": "markdown",
   "id": "b4dabc25",
   "metadata": {},
   "source": [
    "### Q3 Current Ripple and power verification"
   ]
  },
  {
   "cell_type": "code",
   "execution_count": 7,
   "id": "d6870265",
   "metadata": {},
   "outputs": [
    {
     "name": "stdout",
     "output_type": "stream",
     "text": [
      "the rms current in the capacitor is: 2.24 A\n",
      "ESR power loss: 1.20 W\n",
      "ESR power loss nominal: 20.2711 mW\n",
      "ESR power loss goal: 1.00 W\n"
     ]
    }
   ],
   "source": [
    "print(\"the rms current in the capacitor is: {:.2f} A\".format(IL_w2_rms))\n",
    "\n",
    "I_rms_C_out_max = 17.23 # A\n",
    "\n",
    "\n",
    "# Here nominal is used for the normal rms current through C_out \n",
    "# and the max is used for the max rms current through C_out possible at f_sw = 360kHz\n",
    "P_ESR_out_max = C_out_ESR * I_rms_C_out_max**2 # W\n",
    "P_ESR_out_nom = C_out_ESR * IL_w2_rms**2 # W\n",
    "\n",
    "print(\"ESR power loss: {:.2f} W\".format(P_ESR_out_max))\n",
    "print(\"ESR power loss nominal: {:.4f} mW\".format(P_ESR_out_nom*1e3))\n",
    "print(\"ESR power loss goal: {:.2f} W\".format(P_L_w2_loss_goal))"
   ]
  },
  {
   "cell_type": "markdown",
   "id": "256586fc",
   "metadata": {},
   "source": [
    "### Q4 Voltage Ripple verification"
   ]
  },
  {
   "cell_type": "code",
   "execution_count": 8,
   "id": "af3c4465",
   "metadata": {},
   "outputs": [
    {
     "name": "stdout",
     "output_type": "stream",
     "text": [
      "The nominal voltage ripple is: 0.48 V\n",
      "The max voltage ripple is: 789.70 mV\n",
      "The max voltage ripple goal is: 480.00 mV\n"
     ]
    }
   ],
   "source": [
    "print(\"The nominal voltage ripple is: {:.2f} V\".format(D_U_out*U_out))\n",
    "\n",
    "max_ripple_graph_out = 0.7897 # V\n",
    "\n",
    "print(\"The max voltage ripple is: {:.2f} mV\".format(max_ripple_graph_out*1e3))\n",
    "print(\"The max voltage ripple goal is: {:.2f} mV\".format(D_U_out*U_out*1e3))"
   ]
  },
  {
   "cell_type": "markdown",
   "id": "0dd4494e",
   "metadata": {},
   "source": [
    "### Q5 Input capacitor selection"
   ]
  },
  {
   "cell_type": "code",
   "execution_count": 9,
   "id": "6ff82746",
   "metadata": {},
   "outputs": [
    {
     "name": "stdout",
     "output_type": "stream",
     "text": [
      "The input safety voltage is: 72.00 V\n",
      "current input rms: 2.82 A\n",
      "C_in_2_min: 14.810 µF\n",
      "The calculated capacitor value is: 1014.81 µF\n",
      "The value of the previous report is: 625.00 µF\n",
      "The nominal value of the second capacitor is: 15.00 µF\n"
     ]
    }
   ],
   "source": [
    "U_in_safety = 1.2 * U_in_max # V\n",
    "print(\"The input safety voltage is: {:.2f} V\".format(U_in_safety))\n",
    "print(\"current input rms: {:.2f} A\".format(IL_w1_rms))\n",
    "\n",
    "C_in_R1 = 625.00e-6 # F\n",
    "\n",
    "C_in_1 = 1000e-6 # F\n",
    "\n",
    "C_in_2_nom = 15e-6 # F\n",
    "C_in_2_freq_loss = (15 - 14.81) / 15 # 0.013\n",
    "C_in_2_volt_loss = 0 # 9µF\n",
    "C_in_2_min = C_in_2_nom * (1 - C_in_2_volt_loss) * (1 - C_in_2_freq_loss)\n",
    "print(\"C_in_2_min: {:.3f} µF\".format(C_in_2_min*1e6))\n",
    "print(\"The calculated capacitor value is: {:.2f} µF\".format((C_in_2_min + C_in_1)*1e6))\n",
    "print(\"The value of the previous report is: {:.2f} µF\".format(C_in_R1*1e6))\n",
    "print(\"The nominal value of the second capacitor is: {:.2f} µF\".format(C_in_2_nom*1e6))\n"
   ]
  },
  {
   "cell_type": "markdown",
   "id": "093dd63d",
   "metadata": {},
   "source": [
    "### Q6 ESR and Impedance of the input capacitor"
   ]
  },
  {
   "cell_type": "code",
   "execution_count": 10,
   "id": "f959936a",
   "metadata": {},
   "outputs": [
    {
     "name": "stdout",
     "output_type": "stream",
     "text": [
      "Dissipation factor: 0.16336\n",
      "ESR at 360kHz: 0.07222 mOhm AND Impedance 0.442 mOhm\n",
      "ESR c in 2 7.610 mOhm ANd Impedance 29840.000 mOhm\n",
      "########################################\n",
      "Total parallel ESR: 0.07154 mOhm\n",
      "total Parallel Impedance: 223.31615 mOhm\n",
      "TO CHECK: The max voltage ripple is: 27200.00 mV\n"
     ]
    }
   ],
   "source": [
    "\n",
    "#ELECTROLYT C IN\n",
    "C_in_ESR_100 = 0.260 # Ohm at 100Hz\n",
    "C_in_Impedance_10 = 0.225 # Ohm at 10kHz\n",
    "#print(\"impedance at 10kHz: {:.2f} mOhm OR {:.3f}\".format(C_in_Impedance_10*1e3, 1/(2*np.pi*10000*C_in_2_nom)))\n",
    "dissipation_factor = C_in_ESR_100 * 2 * np.pi * 100 *C_in_1\n",
    "print(\"Dissipation factor: {:.5f}\".format(dissipation_factor))\n",
    "\n",
    "C_in_ESR_360 = dissipation_factor / (2*np.pi*360000*C_in_1)\n",
    "print(\"ESR at 360kHz: {:.5f} mOhm AND Impedance {:.3f} mOhm\".format(C_in_ESR_360*1e3, 1/(2*np.pi*360000*C_in_1)*1e3))\n",
    "\n",
    "\n",
    "#CERAMIC C IN\n",
    "C_in_ESR_2 = 0.00761 # Ohm\n",
    "C_in_Impedance_2 = 29.84 # Ohm\n",
    "C_in_voltage_ripple = 27.2 # V\n",
    "\n",
    "print(\"ESR c in 2 {:.3f} mOhm ANd Impedance {:.3f} mOhm\".format(C_in_ESR_2*1e3, C_in_Impedance_2*1e3))\n",
    "\n",
    "print('#'*40)\n",
    "#PARALLEL C IN\n",
    "C_in_ESR = (C_in_ESR_360 * C_in_ESR_2) / (C_in_ESR_360 + C_in_ESR_2)\n",
    "C_in_impedance = (C_in_Impedance_10 * C_in_Impedance_2) / (C_in_Impedance_10 + C_in_Impedance_2)\n",
    "print(\"Total parallel ESR: {:.5f} mOhm\".format(C_in_ESR*1e3))\n",
    "print(\"total Parallel Impedance: {:.5f} mOhm\".format(C_in_impedance*1e3))\n",
    "print(\"TO CHECK: The max voltage ripple is: {:.2f} mV\".format(C_in_voltage_ripple*1e3))"
   ]
  },
  {
   "cell_type": "markdown",
   "id": "794304a5",
   "metadata": {},
   "source": [
    "### Q7 Current Ripple and power verification of the input capacitor"
   ]
  },
  {
   "cell_type": "code",
   "execution_count": 11,
   "id": "5e38aaef",
   "metadata": {},
   "outputs": [
    {
     "name": "stdout",
     "output_type": "stream",
     "text": [
      "The rms current in the capacitor is: 2.82 A\n",
      "I_rms_C_in_max_10: 2.96 A\n",
      "ESR power loss: 0.63 mW\n",
      "ESR power loss nominal: 0.56894 mW\n"
     ]
    }
   ],
   "source": [
    "print(\"The rms current in the capacitor is: {:.2f} A\".format(IL_w1_rms))\n",
    "I_rms_C_in_max_360 = 2.96 # A\n",
    "print(\"I_rms_C_in_max_10: {:.2f} A\".format(I_rms_C_in_max_360))\n",
    "\n",
    "P_ESR_in_max = C_in_ESR * I_rms_C_in_max_360**2 # W\n",
    "P_ESR_in_nom = C_in_ESR * IL_w1_rms**2 # W\n",
    "print(\"ESR power loss: {:.2f} mW\".format(P_ESR_in_max*1e3))\n",
    "print(\"ESR power loss nominal: {:.5f} mW\".format(P_ESR_in_nom*1e3))"
   ]
  },
  {
   "cell_type": "markdown",
   "id": "85b5ee34",
   "metadata": {},
   "source": [
    "### Q8 discharge resistor"
   ]
  },
  {
   "cell_type": "code",
   "execution_count": 12,
   "id": "fb77b628",
   "metadata": {},
   "outputs": [
    {
     "name": "stdout",
     "output_type": "stream",
     "text": [
      "The maximum resistor value to discharge the capacitor in 1 min is: 442.10 kOhm\n",
      "The power loss in the input resistor is: 8.14 mW\n",
      "The minimum capacitor value to discharge the capacitor in 1 min is: 5.78 µF\n",
      "The maximum resistor value to discharge the capacitor in 1 min is: 47804.53 kOhm\n",
      "The power loss in the output resistor is: 0.01205 mW\n",
      "The calculated output capacitor value is: 10.00 µF\n",
      "The calculated resistor value to discharge the capacitor in 1 min is: 27631.02 kOhm\n",
      "The power loss in the output resistor is: 0.02085 mW\n"
     ]
    }
   ],
   "source": [
    "#maximum resistor value to discharge capacitor in 1 min\n",
    "R_discharge = np.log(1/0.01) * 60 / C_in_R1\n",
    "print(\"The maximum resistor value to discharge the capacitor in 1 min is: {:.2f} kOhm\".format(R_discharge*1e-3))\n",
    "\n",
    "R_in = R_discharge #R_in = np.log(1/0.01) * 60 / C_in_nom\n",
    "#print(\"The maximum resistor value to discharge the capacitor in 1 min is: {:.2f} kOhm\".format(R_in*1e-3))\n",
    "\n",
    "P_R_in = U_in_max**2 / R_in # W\n",
    "print(\"The power loss in the input resistor is: {:.2f} mW\".format(P_R_in*1e3))\n",
    "\n",
    "#Same for output\n",
    "print(\"The minimum capacitor value to discharge the capacitor in 1 min is: {:.2f} µF\".format(C_out_R1*1e6))\n",
    "R_out_max = np.log(1/0.01) * 60 / C_out_R1\n",
    "print(\"The maximum resistor value to discharge the capacitor in 1 min is: {:.2f} kOhm\".format(R_out_max*1e-3))\n",
    "P_R_out_max = U_out**2 / R_out_max # W\n",
    "print(\"The power loss in the output resistor is: {:.5f} mW\".format(P_R_out_max*1e3))\n",
    "####\n",
    "print(\"The calculated output capacitor value is: {:.2f} µF\".format(C_out_nom*1e6))\n",
    "R_out = np.log(1/0.01) * 60 / C_out_nom\n",
    "print(\"The calculated resistor value to discharge the capacitor in 1 min is: {:.2f} kOhm\".format(R_out*1e-3))\n",
    "P_R_out = U_out**2 / R_out # W\n",
    "print(\"The power loss in the output resistor is: {:.5f} mW\".format(P_R_out*1e3))"
   ]
  },
  {
   "cell_type": "markdown",
   "id": "f91223db",
   "metadata": {},
   "source": [
    "## CONTROLLER CONFIGURATION\n",
    "### Q9 Oscillator frequency settings"
   ]
  },
  {
   "cell_type": "code",
   "execution_count": 13,
   "id": "2a059f24",
   "metadata": {},
   "outputs": [
    {
     "name": "stdout",
     "output_type": "stream",
     "text": [
      "The frequency of the oscillator is: 720.00 kHz\n",
      "The capacitor value of the CT is: 1.00 nF\n",
      "The resistor value of the RT is: 1.53 Ohm\n"
     ]
    }
   ],
   "source": [
    "f_osc = f_sw * 2 # Hz\n",
    "print(\"The frequency of the oscillator is: {:.2f} kHz\".format(f_osc*1e-3))\n",
    "R_RT = 10**(2/10.8) #Ohm\n",
    "C_CT = 1e-9 # F\n",
    "print(\"The capacitor value of the CT is: {:.2f} nF\".format(C_CT*1e9))\n",
    "print(\"The resistor value of the RT is: {:.2f} Ohm\".format(R_RT))"
   ]
  },
  {
   "cell_type": "markdown",
   "id": "0b253434",
   "metadata": {},
   "source": [
    "### Q10 Reference voltage capacitor"
   ]
  },
  {
   "cell_type": "code",
   "execution_count": 14,
   "id": "57dc8290",
   "metadata": {},
   "outputs": [
    {
     "name": "stdout",
     "output_type": "stream",
     "text": [
      "The capacitor value of the VREF is: 1.00 nF\n"
     ]
    }
   ],
   "source": [
    "C_VREF = C_CT\n",
    "print(\"The capacitor value of the VREF is: {:.2f} nF\".format(C_VREF*1e9))"
   ]
  },
  {
   "cell_type": "markdown",
   "id": "f1ab6920",
   "metadata": {},
   "source": [
    "## SUPPLY CIRCUIT FOR CONTROLLER\n",
    "### Q11 Choosing DC/DC regulator for PWM controller"
   ]
  },
  {
   "cell_type": "code",
   "execution_count": 15,
   "id": "04098fb5",
   "metadata": {},
   "outputs": [],
   "source": [
    "C_in_reg_1 = 2.2e-6 #F\n",
    "Regulator_DC_DC_1 = \"TDN1- 4813WISM\""
   ]
  },
  {
   "cell_type": "markdown",
   "id": "38ae2ee4",
   "metadata": {},
   "source": [
    "### Q12: Supply Capacitor for PWM controller"
   ]
  },
  {
   "cell_type": "code",
   "execution_count": 16,
   "id": "b0c2fe36",
   "metadata": {},
   "outputs": [],
   "source": [
    "C_vdd = 0.1e-6 #F\n",
    "C_vdd_bp = 0.1e-6 #F"
   ]
  },
  {
   "cell_type": "markdown",
   "id": "220f3545",
   "metadata": {},
   "source": [
    "## GATE DRIVER CONSIDERATIONS\n",
    "\n",
    "## SUPPLY CIRCUIT FOR GATE DRIVERS\n",
    "### Q13 Choosing DC/DC Regulator(s) for gate Drivers"
   ]
  },
  {
   "cell_type": "code",
   "execution_count": 17,
   "id": "5ccc7988",
   "metadata": {},
   "outputs": [],
   "source": [
    "C_in_reg_2 = 2.2e-6 #F\n",
    "Regulator_DC_DC_2 = \"TSR-0.6-48150WI\""
   ]
  },
  {
   "cell_type": "markdown",
   "id": "38394ce6",
   "metadata": {},
   "source": [
    "### Q14 Supply capacitor for gate drivers"
   ]
  },
  {
   "cell_type": "code",
   "execution_count": 18,
   "id": "e5df717f",
   "metadata": {},
   "outputs": [
    {
     "name": "stdout",
     "output_type": "stream",
     "text": [
      "The minimum capacitor value for the V_CC is: 0.34 µF\n",
      "The minimum capacitor value for the V_BS is: 0.53 µF\n"
     ]
    }
   ],
   "source": [
    "#Quiescent supply currents\n",
    "I_Q_BS = 50e-6 # A\n",
    "I_Q_BS_max = 240e-6 # A\n",
    "I_Q_CC = 70e-6 # A\n",
    "I_Q_CC_max = 340e-6 # A\n",
    "\n",
    "Q_G_max = 26e-9 # C\n",
    "\n",
    "t = 1e-3 # s\n",
    "\n",
    "C_V_CC_min = I_Q_CC_max*t/1\n",
    "\n",
    "C_V_BS_min = (Q_G_max + I_Q_BS_max*t)/0.5\n",
    "\n",
    "print(\"The minimum capacitor value for the V_CC is: {:.2f} µF\".format(C_V_CC_min*1e6))\n",
    "print(\"The minimum capacitor value for the V_BS is: {:.2f} µF\".format(C_V_BS_min*1e6))\n"
   ]
  },
  {
   "cell_type": "markdown",
   "id": "2cd3f2f0",
   "metadata": {},
   "source": [
    "### Q15 Choice of the gate resistors"
   ]
  },
  {
   "cell_type": "code",
   "execution_count": 19,
   "id": "1aaace9f",
   "metadata": {},
   "outputs": [
    {
     "name": "stdout",
     "output_type": "stream",
     "text": [
      "The minimum resistor value is: 45.50 Ohm\n"
     ]
    }
   ],
   "source": [
    "R_driver = 2.5 # Ohm\n",
    "R_G_int = 12 # Ohm\n",
    "V_drive = 15 # V\n",
    "I_max = 0.25 # A\n",
    "R_min = V_drive / I_max - R_driver - R_G_int\n",
    "print(\"The minimum resistor value is: {:.2f} Ohm\".format(R_min))"
   ]
  },
  {
   "cell_type": "markdown",
   "id": "3fb3eab3",
   "metadata": {},
   "source": [
    "### Q16 Power losses of gate resistor"
   ]
  },
  {
   "cell_type": "code",
   "execution_count": 20,
   "id": "fdc5ceca",
   "metadata": {},
   "outputs": [
    {
     "name": "stdout",
     "output_type": "stream",
     "text": [
      "The average current during turn on is: 0.76 A\n",
      "The average current during turn off is: 1.08 A\n",
      "The average current is: 1.31 A\n",
      "The power loss in the gate resistor is: 7054411764.71 mW\n",
      "The power loss in the gate resistor is: 70.20 mW\n"
     ]
    }
   ],
   "source": [
    "rise_time = 34e-9 # ns\n",
    "fall_time = 24e-9 # ns\n",
    "I_avg_on = Q_G_max / (rise_time) # A\n",
    "I_avg_off = Q_G_max / (fall_time) # A\n",
    "print(\"The average current during turn on is: {:.2f} A\".format(I_avg_on))\n",
    "print(\"The average current during turn off is: {:.2f} A\".format(I_avg_off))\n",
    "\n",
    "I_avg = I_avg_on + I_avg_off/2 # A\n",
    "print(\"The average current is: {:.2f} A\".format(I_avg))\n",
    "P_R_G = I_avg * V_drive * f_sw # W\n",
    "print(\"The power loss in the gate resistor is: {:.2f} mW\".format(P_R_G*1e3))\n",
    "\n",
    "P_R_G = Q_G_max * V_drive * f_sw / 2\n",
    "print(\"The power loss in the gate resistor is: {:.2f} mW\".format(P_R_G*1e3))"
   ]
  },
  {
   "cell_type": "markdown",
   "id": "7228e27f",
   "metadata": {},
   "source": [
    "## Auxiliary supply power consideration\n",
    "### Q17: IC Power consumptions"
   ]
  },
  {
   "cell_type": "code",
   "execution_count": 21,
   "id": "a0c384bb",
   "metadata": {},
   "outputs": [
    {
     "name": "stdout",
     "output_type": "stream",
     "text": [
      "The power loss in the PWM IC is: 625.00 mW\n",
      "The power loss in the VCC is: 11475.69 mW\n",
      "The power loss in the VBS is: 3.60 mW\n",
      "The power loss in the GD is: 11479.29 mW\n"
     ]
    }
   ],
   "source": [
    "P_D_PWM_IC = 0.625 # W\n",
    "print(\"The power loss in the PWM IC is: {:.2f} mW\".format(P_D_PWM_IC*1e3))\n",
    "\n",
    "P_D_VCC = V_drive * (I_Q_CC_max + I_avg_on) # W\n",
    "print(\"The power loss in the VCC is: {:.2f} mW\".format(P_D_VCC*1e3))\n",
    "P_D_VBS = V_drive * (I_Q_BS_max) # W\n",
    "print(\"The power loss in the VBS is: {:.2f} mW\".format(P_D_VBS*1e3))\n",
    "\n",
    "P_D_GD = P_D_VCC + P_D_VBS #W\n",
    "print(\"The power loss in the GD is: {:.2f} mW\".format(P_D_GD*1e3))\n"
   ]
  },
  {
   "cell_type": "markdown",
   "id": "00d4e468",
   "metadata": {},
   "source": [
    "### Q18: DC/DC Regulators rating evaluation and overall converter efficiency"
   ]
  },
  {
   "cell_type": "code",
   "execution_count": 22,
   "id": "5de3d365",
   "metadata": {},
   "outputs": [
    {
     "name": "stdout",
     "output_type": "stream",
     "text": [
      "The total power loss in the transformer is: 5610.00 mW\n",
      "The efficiency is: 73.84 %\n"
     ]
    }
   ],
   "source": [
    "P_T_cond = 0.90 #3.225\n",
    "P_D_rec = 2.62 # W\n",
    "P_T_SW = 1.19 # W\n",
    "P_T_total = 2*P_T_cond + P_T_SW + P_D_rec # W\n",
    "print(\"The total power loss in the transformer is: {:.2f} mW\".format(P_T_total*1e3))\n",
    "\n",
    "efficiency = P_out_nom / (P_out_nom + P_T_total + P_D_PWM_IC + P_D_GD) * 100 # %\n",
    "print(\"The efficiency is: {:.2f} %\".format(efficiency))"
   ]
  },
  {
   "cell_type": "markdown",
   "id": "bcc4b8d1",
   "metadata": {},
   "source": [
    "## Current Measurement\n",
    "### Q19: current sensing shunt resistor"
   ]
  },
  {
   "cell_type": "code",
   "execution_count": 23,
   "id": "e06961dc",
   "metadata": {},
   "outputs": [
    {
     "name": "stdout",
     "output_type": "stream",
     "text": [
      "The voltage drop across the current sense resistor is: 6.30 V\n",
      "The resistor value is: 1.94 Ohm\n",
      "The power loss in the resistor is: 3596.44 mW\n",
      "The power loss in the resistor is: 369.92 mW\n",
      "The resistor value is: 0.20 Ohm\n"
     ]
    }
   ],
   "source": [
    "V_CS_max = 6.3 # V\n",
    "Delta_V = 0.8*V_CS_max # V\n",
    "print(\"The voltage drop across the current sense resistor is: {:.2f} V\".format(V_CS_max))\n",
    "I_VDD = 1.36 # A\n",
    "R_CS_max = V_CS_max / IL_w1_peak # Ohm\n",
    "print(\"The resistor value is: {:.2f} Ohm\".format(R_CS_max))\n",
    "power_loss_R_CS_max = I_VDD**2 * R_CS_max # W\n",
    "print(\"The power loss in the resistor is: {:.2f} mW\".format(power_loss_R_CS_max*1e3))\n",
    "\n",
    "###############################\n",
    "R_CS = 0.2 # Ohm\n",
    "power_loss_R_CS = I_VDD**2 * R_CS # W\n",
    "print(\"The power loss in the resistor is: {:.2f} mW\".format(power_loss_R_CS*1e3))\n",
    "print(\"The resistor value is: {:.2f} Ohm\".format(R_CS))"
   ]
  },
  {
   "cell_type": "markdown",
   "id": "b37ff9b8",
   "metadata": {},
   "source": [
    "### Q20: Current measurement filtering"
   ]
  },
  {
   "cell_type": "code",
   "execution_count": 24,
   "id": "f1dad2af",
   "metadata": {},
   "outputs": [
    {
     "name": "stdout",
     "output_type": "stream",
     "text": [
      "The cut off frequency is: 9.00MkHz\n",
      "The resistor value is: 0.17684 kOhm and capacitor value is: 100.00 pF\n"
     ]
    }
   ],
   "source": [
    "C_CSF = 100e-12 # F\n",
    "f_3dB = 25*f_sw# Hz\n",
    "print(\"The cut off frequency is: {:.2f}MkHz\".format(f_3dB*1e-6))\n",
    "\n",
    "R_CSF = 1/(2 * np.pi * f_3dB * C_CSF) #1.8e3 # Ohm\n",
    "print(\"The resistor value is: {:.5f} kOhm and capacitor value is: {:.2f} pF\".format(R_CSF*1e-3, C_CSF*1e12))"
   ]
  },
  {
   "cell_type": "markdown",
   "id": "74fd00f2",
   "metadata": {},
   "source": [
    "## Compensation network Design\n",
    "### Q21: Steady-State control-to-output characteristics"
   ]
  },
  {
   "cell_type": "code",
   "execution_count": 25,
   "id": "8e6da182",
   "metadata": {},
   "outputs": [
    {
     "name": "stdout",
     "output_type": "stream",
     "text": [
      "The minimum voltage is: 1.10 V\n",
      "The maximum voltage is: 3.80 V\n",
      "The voltage range is: 2.70 V\n",
      "The nominal voltage is: 1.67 V\n"
     ]
    }
   ],
   "source": [
    "V_CS_m = 0.9 # V\n",
    "A_CS = 3\n",
    "R_CS = 0.2 # Ohm\n",
    "V_th_C = 1.1 # V\n",
    "V_COMP_min = V_th_C\n",
    "V_COMP_max = V_th_C + V_CS_m * A_CS # V\n",
    "print(\"The minimum voltage is: {:.2f} V\".format(V_COMP_min))\n",
    "print(\"The maximum voltage is: {:.2f} V\".format(V_COMP_max))\n",
    "print(\"The voltage range is: {:.2f} V\".format(V_COMP_max - V_COMP_min))\n",
    "\n",
    "V_COMP_nom = R_CS*(P_out_nom/U_in_nom/D + (U_in_nom*D)/(2*L_select*f_sw)) + 0 + V_th_C\n",
    "print(\"The nominal voltage is: {:.2f} V\".format(V_COMP_nom))\n",
    "V_COMP_nom_final = 3.43 # V\n"
   ]
  },
  {
   "cell_type": "markdown",
   "id": "1bcb84a0",
   "metadata": {},
   "source": [
    "### Q22: Control-to-output transfer function"
   ]
  },
  {
   "cell_type": "code",
   "execution_count": 26,
   "id": "f75e78f2",
   "metadata": {},
   "outputs": [
    {
     "name": "stdout",
     "output_type": "stream",
     "text": [
      "The time constant is: 2132.12 ms\n",
      "The magnetizing inductance is: 417391.30 µH\n",
      "The gain G_0 is: 8.56\n",
      "The ESR pole frequency is: 6815.71 kHz\n",
      "The RHP pole frequency is: 45.42 kHz\n",
      "The P1 pole frequency is: 1.90 kHz\n",
      "The P2 pole frequency is: 180.00 kHz\n",
      "The Q_p is: 1.55\n"
     ]
    }
   ],
   "source": [
    "R_out_data = U_out**2/P_out_nom # Ohm\n",
    "Duty = U_out / (U_out + N*U_in_nom)\n",
    "\n",
    "tau_L = L_select* N**2 * f_sw/ (R_out_data)#2*L_select * f_sw/(R_out_data * N**2) # s\n",
    "print(\"The time constant is: {:.2f} ms\".format(tau_L*1e3))\n",
    "M = U_out/(N*U_in_nom) #0 #U_out * N / np.nan\n",
    "print(\"The magnetizing inductance is: {:.2f} µH\".format(M*1e6))\n",
    "\n",
    "A_CS = 3 #current sens gain\n",
    "G_0 = R_out_data/(R_CS * A_CS*N) /((1-Duty)**2/(2*tau_L) + 2*M + 1)\n",
    "print(\"The gain G_0 is: {:.2f}\".format(G_0))\n",
    "\n",
    "### ESR pole ###\n",
    "omega_ESR = 1/(C_out_ESR * C_out_R1)\n",
    "f_ESR = omega_ESR / (2 * np.pi)\n",
    "print(\"The ESR pole frequency is: {:.2f} kHz\".format(f_ESR*1e-3))\n",
    "#print(\"R_ESR = {:.2f} mOhm and C_out {:.2f} pF\".format(C_out_ESR*1e3, C_out_R1*1e12))\n",
    "\n",
    "### RHP pole ###\n",
    "omega_RHP = R_out_data * (1-Duty)**2/(Duty*L_select*N**2)\n",
    "f_RHP = omega_RHP / (2 * np.pi)\n",
    "print(\"The RHP pole frequency is: {:.2f} kHz\".format(f_RHP*1e-3))\n",
    "\n",
    "### P1 pole ###\n",
    "omega_P1 = (((1-Duty)**3)/(2*tau_L) + 1 + Duty)/(R_out_data * C_out_nom)\n",
    "f_P1 = omega_P1 / (2 * np.pi)\n",
    "print(\"The P1 pole frequency is: {:.2f} kHz\".format(f_P1*1e-3))\n",
    "\n",
    "### P2 pole ###\n",
    "omega_P2 = np.pi * f_sw\n",
    "f_P2 = omega_P2 / (2 * np.pi)\n",
    "print(\"The P2 pole frequency is: {:.2f} kHz\".format(f_P2*1e-3))\n",
    "\n",
    "### Q_p ###\n",
    "M_C = 1 #Slope compensation factor, and S_e was put to zero\n",
    "Q_p = 1/(np.pi*(M_C * (1-Duty) - 0.5))\n",
    "print(\"The Q_p is: {:.2f}\".format(Q_p))"
   ]
  },
  {
   "cell_type": "markdown",
   "id": "63e13c11",
   "metadata": {},
   "source": [
    "### Q23: Control-to-output bode diagram"
   ]
  },
  {
   "cell_type": "code",
   "execution_count": 27,
   "id": "fa56f8de",
   "metadata": {},
   "outputs": [
    {
     "name": "stdout",
     "output_type": "stream",
     "text": [
      "Just a plot to show\n"
     ]
    }
   ],
   "source": [
    "print(\"Just a plot to show\")"
   ]
  },
  {
   "cell_type": "markdown",
   "id": "944e5373",
   "metadata": {},
   "source": [
    "### Q24: Type II controller transfer function design"
   ]
  },
  {
   "cell_type": "code",
   "execution_count": 28,
   "id": "175d6077",
   "metadata": {},
   "outputs": [
    {
     "name": "stdout",
     "output_type": "stream",
     "text": [
      "The bandwidth is: 11.36 kHz\n",
      "The fz is: 3.24 kHz\n",
      "The fp is: 39.75 kHz\n",
      "The K_p is: 351.65\n"
     ]
    }
   ],
   "source": [
    "f_BW = f_RHP/4\n",
    "print(\"The bandwidth is: {:.2f} kHz\".format(f_BW*1e-3))\n",
    "\n",
    "fz = f_BW/3.5\n",
    "fp = f_BW*3.5\n",
    "print(\"The fz is: {:.2f} kHz\".format(fz*1e-3))\n",
    "print(\"The fp is: {:.2f} kHz\".format(fp*1e-3))\n",
    "\n",
    "K_p = 351.65 # V/V\n",
    "print(\"The K_p is: {:.2f}\".format(K_p))"
   ]
  },
  {
   "cell_type": "markdown",
   "id": "2570f9db",
   "metadata": {},
   "source": [
    "### Q25: Ideal type II controller transfer function verification"
   ]
  },
  {
   "cell_type": "code",
   "execution_count": 29,
   "id": "da9a792c",
   "metadata": {},
   "outputs": [
    {
     "name": "stdout",
     "output_type": "stream",
     "text": [
      "Just Show bode plots\n"
     ]
    }
   ],
   "source": [
    "print(\"Just Show bode plots\")"
   ]
  },
  {
   "cell_type": "markdown",
   "id": "7b670ce2",
   "metadata": {},
   "source": [
    "### Q26: Type II Controller Implementation"
   ]
  },
  {
   "cell_type": "code",
   "execution_count": 30,
   "id": "100e62bc",
   "metadata": {},
   "outputs": [
    {
     "name": "stdout",
     "output_type": "stream",
     "text": [
      "Need to derive formulas, no calculation yet\n"
     ]
    }
   ],
   "source": [
    "print(\"Need to derive formulas, no calculation yet\")"
   ]
  },
  {
   "cell_type": "markdown",
   "id": "bbc39368",
   "metadata": {},
   "source": [
    "### Q27: Reference output voltage settings"
   ]
  },
  {
   "cell_type": "code",
   "execution_count": 31,
   "id": "e8b176c7",
   "metadata": {},
   "outputs": [
    {
     "name": "stdout",
     "output_type": "stream",
     "text": [
      "The resistor FBU value is: 21.50 kOhm\n",
      "The resistor FBB value is: 2.50 kOhm\n"
     ]
    }
   ],
   "source": [
    "REF_TL431 = 2.495 # V\n",
    "I_FB_REF = 1e-3 #A\n",
    "R_FBU = (U_out - REF_TL431) / I_FB_REF # Ohm\n",
    "print(\"The resistor FBU value is: {:.2f} kOhm\".format(R_FBU*1e-3))\n",
    "\n",
    "R_FBB = REF_TL431 / (U_out - REF_TL431) * R_FBU # Ohm\n",
    "print(\"The resistor FBB value is: {:.2f} kOhm\".format(R_FBB*1e-3))"
   ]
  },
  {
   "cell_type": "markdown",
   "id": "73076f92",
   "metadata": {},
   "source": [
    "### Q28: compensation zero components"
   ]
  },
  {
   "cell_type": "code",
   "execution_count": 46,
   "id": "6d80aaf3",
   "metadata": {},
   "outputs": [
    {
     "name": "stdout",
     "output_type": "stream",
     "text": [
      "The frequency of the compensation network is: 1.14 kHz\n",
      "The first resistor value is: 107.53 kOhm\n",
      "The final resistor value is: 8.00 kOhm\n",
      "The capacitor value is: 17.52 nF\n",
      "The frequency of the compensation network is: 1.33 kHz\n"
     ]
    }
   ],
   "source": [
    "f_COMPz = f_BW/10\n",
    "print(\"The frequency of the compensation network is: {:.2f} kHz\".format(f_COMPz*1e-3))\n",
    "\n",
    "R_COMPz = 5*R_FBU\n",
    "print(\"The first resistor value is: {:.2f} kOhm\".format(R_COMPz*1e-3))\n",
    "\n",
    "R_COMPz_final = 8e3 #Too high! 97.6e3 # Ohm\n",
    "print(\"The final resistor value is: {:.2f} kOhm\".format(R_COMPz_final*1e-3))\n",
    "# C_comp = 1/(2 * np.pi * f_COMP * R_COMP) # F\n",
    "# print(\"The capacitor value is: {:.2f} nF\".format(C_comp*1e9))\n",
    "C_compz = 1/(2 * np.pi * f_COMPz * R_COMPz_final) # F\n",
    "print(\"The capacitor value is: {:.2f} nF\".format(C_compz*1e9))\n",
    "C_compz_final = 15e-9 #4.6e-9 #C_compz #1.5e-9 # F\n",
    "#print(\"The final capacitor value is: {:.2f} nF\".format(C_compz_final*1e9))\n",
    "f_COMPz_final = 1/(2 * np.pi * R_COMPz_final * C_compz_final) # Hz\n",
    "print(\"The frequency of the compensation network is: {:.2f} kHz\".format(f_COMPz_final*1e-3))"
   ]
  },
  {
   "cell_type": "markdown",
   "id": "c888763c",
   "metadata": {},
   "source": [
    "### Q29: Compensation pole components"
   ]
  },
  {
   "cell_type": "code",
   "execution_count": 47,
   "id": "e2517302",
   "metadata": {},
   "outputs": [
    {
     "name": "stdout",
     "output_type": "stream",
     "text": [
      "I_{sink} =  0.0014\n",
      "I_{source} =  0.0012900000000000001\n",
      "The minimum resistor value is: 1.30 kOhm\n",
      "The chosen resistor value is: 3.00 kOhm\n",
      "The capacitor value is: 7.78 pF\n",
      "The frequency of the compensation network is: 53.05 kHz\n"
     ]
    }
   ],
   "source": [
    "print('I_{sink} = ', (2.5-1.1)/1000)\n",
    "print('I_{source} = ', (3.79 - 2.5)/1000)\n",
    "R_compp_min = (V_COMP_max - 2.5)/1e-3 # Ohm\n",
    "print(\"The minimum resistor value is: {:.2f} kOhm\".format(R_compp_min*1e-3))\n",
    "R_compp = 3e3 #4.65e3 # Ohm\n",
    "print(\"The chosen resistor value is: {:.2f} kOhm\".format(R_compp*1e-3))\n",
    "\n",
    "C_compp = 1/(2 * np.pi * f_ESR * R_compp) # F\n",
    "print(\"The capacitor value is: {:.2f} pF\".format(C_compp*1e12))\n",
    "C_compp_final = 1e-9 #too low closed loop unstable 5e-12 # F\n",
    "f_compp = 1/(2 * np.pi * R_compp * C_compp_final) # Hz\n",
    "print(\"The frequency of the compensation network is: {:.2f} kHz\".format(f_compp*1e-3))"
   ]
  },
  {
   "cell_type": "markdown",
   "id": "da394c8b",
   "metadata": {},
   "source": [
    "### Q30: FB pin resistor"
   ]
  },
  {
   "cell_type": "code",
   "execution_count": 48,
   "id": "834030a4",
   "metadata": {},
   "outputs": [
    {
     "name": "stdout",
     "output_type": "stream",
     "text": [
      "The resistor value is: 5.77 kOhm\n",
      "The resistor value is: 4.50 kOhm\n",
      "The final resistor value is: 5.00 kOhm\n",
      "The voltage is: 4.05 V\n"
     ]
    }
   ],
   "source": [
    "V_CE_max = 5 # V\n",
    "V_CE_min = 0.4 # V\n",
    "R_FGB_1 = (2.5 - V_CE_max)/(2.5 - V_COMP_max) * R_compp # Ohm\n",
    "print(\"The resistor value is: {:.2f} kOhm\".format(R_FGB_1*1e-3))\n",
    "R_FGB_2 = (2.5 - V_CE_min)/(2.5 - V_COMP_min) * R_compp # Ohm\n",
    "print(\"The resistor value is: {:.2f} kOhm\".format(R_FGB_2*1e-3))\n",
    "R_FGB = 5e3 # Ohm\n",
    "print(\"The final resistor value is: {:.2f} kOhm\".format(R_FGB*1e-3))\n",
    "\n",
    "V_CE_test = 2.5 - (2.5 - V_COMP_nom_final) / R_compp * R_FGB\n",
    "print(\"The voltage is: {:.2f} V\".format(V_CE_test))"
   ]
  },
  {
   "cell_type": "markdown",
   "id": "c31d713d",
   "metadata": {},
   "source": [
    "### Q31: Optocoupler resistor"
   ]
  },
  {
   "cell_type": "code",
   "execution_count": 49,
   "id": "0576239c",
   "metadata": {},
   "outputs": [
    {
     "name": "stdout",
     "output_type": "stream",
     "text": [
      "The resistor value is: 475.00 Ohm\n",
      "The resistor value is: 95.00 Ohm\n",
      "The final resistor value is: 450.00 Ohm\n",
      "The min. current through the opto is: 1.80 mA\n",
      "The current through the opto is: 1.80 mA\n",
      "The minimum current through the opto is: 0.31 mA\n",
      "The maximum current through the opto is: 11.21 mA\n"
     ]
    }
   ],
   "source": [
    "i_c_opto_min_range = 2e-3 #0.1e-3 # A\n",
    "i_c_opto_max_range = 10e-3 # A\n",
    "R_opto_1 = 2.5/(i_c_opto_min_range) + (2.5 - V_COMP_nom_final)/R_compp * (1 + R_FGB/i_c_opto_min_range) # Ohm\n",
    "print(\"The resistor value is: {:.2f} Ohm\".format(R_opto_1))\n",
    "R_opto_2 = 2.5/(i_c_opto_max_range) + (2.5 - V_COMP_nom_final)/R_compp * (1 + R_FGB/i_c_opto_max_range) # Ohm\n",
    "print(\"The resistor value is: {:.2f} Ohm\".format(R_opto_2))\n",
    "R_opto = 450 # Ohm\n",
    "print(\"The final resistor value is: {:.2f} Ohm\".format(R_opto))\n",
    "\n",
    "i_c_opto_min = 2.5/R_opto  + (2.5 - V_COMP_max)/R_compp * (1 + R_FGB/R_opto) # A\n",
    "i_c_opto_nom = 2.5/R_opto + (2.5 - V_COMP_nom_final)/R_compp * (1 + R_FGB/R_opto) # A\n",
    "i_c_opto_min_1 = 2.5/R_opto# + (2.5 - V_COMP_max)/R_compp * (1 + R_FGB/R_opto) # A\n",
    "print(\"The min. current through the opto is: {:.2f} mA\".format(i_c_opto_nom*1e3))\n",
    "i_c_opto_max = 2.5/R_opto + (2.5 - V_COMP_min)/R_compp * (1 + R_FGB/R_opto) # A\n",
    "print(\"The current through the opto is: {:.2f} mA\".format(i_c_opto_nom*1e3))\n",
    "print(\"The minimum current through the opto is: {:.2f} mA\".format(i_c_opto_min*1e3))\n",
    "print(\"The maximum current through the opto is: {:.2f} mA\".format(i_c_opto_max*1e3))\n",
    "\n",
    "##################################\n",
    "# i_c_opto_max *= -1\n",
    "# i_c_opto_nom *= -1"
   ]
  },
  {
   "cell_type": "markdown",
   "id": "e6bf3b47",
   "metadata": {},
   "source": [
    "### Q32: optocoupler input current and CTR computation"
   ]
  },
  {
   "cell_type": "code",
   "execution_count": 50,
   "id": "84566f76",
   "metadata": {},
   "outputs": [
    {
     "name": "stdout",
     "output_type": "stream",
     "text": [
      "The minimum current through the LED with CTR 100 is: 0.30741 mA\n",
      "The maximum current through the LED with CTR 100 is: 11.20741 mA\n",
      "The nominal current through the LED with CTR 100 is: 1.80111 mA\n",
      "The minimum current through the LED with CTR 200 is: 0.15370 mA\n",
      "The maximum current through the LED with CTR 200 is: 5.60370 mA\n",
      "The nominal current through the LED with CTR 200 is: 0.90056 mA\n"
     ]
    }
   ],
   "source": [
    "CTR_min = 1\n",
    "CTR_max = 2\n",
    "\n",
    "i_LED_opto_min_1 = i_c_opto_min / CTR_min # A\n",
    "i_LED_opto_min_2 = i_c_opto_min / CTR_max # A\n",
    "i_LED_opto_max_1 = i_c_opto_max / CTR_min # A\n",
    "i_LED_opto_max_2 = i_c_opto_max / CTR_max # A\n",
    "i_LED_opto_nom_1 = i_c_opto_nom / CTR_min # A\n",
    "i_LED_opto_nom_2 = i_c_opto_nom / CTR_max # A\n",
    "print(\"The minimum current through the LED with CTR 100 is: {:.5f} mA\".format(i_LED_opto_min_1*1e3))\n",
    "print(\"The maximum current through the LED with CTR 100 is: {:.5f} mA\".format(i_LED_opto_max_1*1e3))\n",
    "print(\"The nominal current through the LED with CTR 100 is: {:.5f} mA\".format(i_LED_opto_nom_1*1e3))\n",
    "print(\"The minimum current through the LED with CTR 200 is: {:.5f} mA\".format(i_LED_opto_min_2*1e3))\n",
    "print(\"The maximum current through the LED with CTR 200 is: {:.5f} mA\".format(i_LED_opto_max_2*1e3))\n",
    "print(\"The nominal current through the LED with CTR 200 is: {:.5f} mA\".format(i_LED_opto_nom_2*1e3))"
   ]
  },
  {
   "cell_type": "markdown",
   "id": "b5f2fba8",
   "metadata": {},
   "source": [
    "### Q33: LED Resistor"
   ]
  },
  {
   "cell_type": "code",
   "execution_count": 51,
   "id": "de648895",
   "metadata": {},
   "outputs": [
    {
     "name": "stdout",
     "output_type": "stream",
     "text": [
      "The resistor value is: 11.38 kOhm\n",
      "The resistor value is: 0.00097 kOhm\n",
      "The final resistor value is: 2.50 kOhm\n",
      "The K_p is: 351.65\n",
      "parallel resistor of 20 and 10 ohms 6.67 Ohm\n"
     ]
    }
   ],
   "source": [
    "V_AK_min = 2.5 # V\n",
    "R_LED_max = (U_out - 1 - V_AK_min)/i_LED_opto_nom_1 # Ohm\n",
    "print(\"The resistor value is: {:.2f} kOhm\".format(R_LED_max*1e-3))\n",
    "R_LED = R_compp * CTR_min / K_p * (R_COMPz_final + R_FBU) / R_FBU * R_opto / (R_opto + R_FGB) # Ohm\n",
    "print(\"The resistor value is: {:.5f} kOhm\".format(R_LED*1e-3))\n",
    "\n",
    "R_LED_final = 2.5e3 # Ohm\n",
    "print(\"The final resistor value is: {:.2f} kOhm\".format(R_LED_final*1e-3))\n",
    "\n",
    "K_p_new = CTR_min * R_compp / R_LED * (R_COMPz_final + R_FBU) / R_FBU * R_opto / (R_opto + R_FGB)   # V/V\n",
    "print(\"The K_p is: {:.2f}\".format(K_p_new))\n",
    "\n",
    "print(\"parallel resistor of 20 and 10 ohms {:.2f} Ohm\".format(20*10/(20+10)))"
   ]
  },
  {
   "cell_type": "markdown",
   "id": "5359cc4f",
   "metadata": {},
   "source": [
    "### Q34: TL431 Voltage Verification"
   ]
  },
  {
   "cell_type": "code",
   "execution_count": 52,
   "id": "9a0898ff",
   "metadata": {},
   "outputs": [
    {
     "name": "stdout",
     "output_type": "stream",
     "text": [
      "The voltage is: 23.00 V\n"
     ]
    }
   ],
   "source": [
    "V_AK = U_out - 1 - i_LED_opto_nom_1 * R_LED\n",
    "print(\"The voltage is: {:.2f} V\".format(V_AK))"
   ]
  },
  {
   "cell_type": "markdown",
   "id": "7b57df8e",
   "metadata": {},
   "source": [
    "### Q35: TL431 Current Verification"
   ]
  },
  {
   "cell_type": "code",
   "execution_count": 53,
   "id": "3166b432",
   "metadata": {},
   "outputs": [
    {
     "name": "stdout",
     "output_type": "stream",
     "text": [
      "The bias current is: 0.80 mA\n",
      "The resistor value is: 1.25 kOhm\n"
     ]
    }
   ],
   "source": [
    "i_bias = i_LED_opto_nom_1 - 1e-3 # A\n",
    "print(\"The bias current is: {:.2f} mA\".format(i_bias*1e3))\n",
    "R_bias = (U_out - V_AK) / i_bias # Ohm\n",
    "print(\"The resistor value is: {:.2f} kOhm\".format(R_bias*1e-3))"
   ]
  },
  {
   "cell_type": "markdown",
   "id": "18c3cdc9",
   "metadata": {},
   "source": [
    "### Q36: Type II Controller Verification"
   ]
  },
  {
   "cell_type": "code",
   "execution_count": 40,
   "id": "28ad047a",
   "metadata": {},
   "outputs": [
    {
     "name": "stdout",
     "output_type": "stream",
     "text": [
      "Just a plot to show\n"
     ]
    }
   ],
   "source": [
    "print(\"Just a plot to show\")"
   ]
  },
  {
   "cell_type": "markdown",
   "id": "aea38720",
   "metadata": {},
   "source": [
    "### Q37: PLECS Verification"
   ]
  },
  {
   "cell_type": "code",
   "execution_count": 41,
   "id": "3e40172d",
   "metadata": {},
   "outputs": [
    {
     "name": "stdout",
     "output_type": "stream",
     "text": [
      "just a plot to show\n"
     ]
    }
   ],
   "source": [
    "print(\"just a plot to show\")"
   ]
  },
  {
   "cell_type": "markdown",
   "id": "bfe37e37",
   "metadata": {},
   "source": [
    "## Schematic and PCB\n",
    "### Q38: Schematic Layout\n",
    "Picture of the schematic in ALTIUM"
   ]
  },
  {
   "cell_type": "markdown",
   "id": "736d1da6",
   "metadata": {},
   "source": [
    "### Q39: Minimal Copper Width"
   ]
  },
  {
   "cell_type": "code",
   "execution_count": 54,
   "id": "cce55077",
   "metadata": {},
   "outputs": [
    {
     "name": "stdout",
     "output_type": "stream",
     "text": [
      "The copper thickness is: 2.64 mm\n"
     ]
    }
   ],
   "source": [
    "current_density_max = 35e6 # A/m^2\n",
    "copper_thickness = 35e-6 # m\n",
    "IL_w1_peak = 3.24 # A\n",
    "d_Cu = IL_w1_peak/current_density_max/copper_thickness # m\n",
    "print(\"The copper thickness is: {:.2f} mm\".format(d_Cu*1e3))"
   ]
  }
 ],
 "metadata": {
  "kernelspec": {
   "display_name": "Python 3",
   "language": "python",
   "name": "python3"
  },
  "language_info": {
   "codemirror_mode": {
    "name": "ipython",
    "version": 3
   },
   "file_extension": ".py",
   "mimetype": "text/x-python",
   "name": "python",
   "nbconvert_exporter": "python",
   "pygments_lexer": "ipython3",
   "version": "3.12.0"
  }
 },
 "nbformat": 4,
 "nbformat_minor": 5
}
