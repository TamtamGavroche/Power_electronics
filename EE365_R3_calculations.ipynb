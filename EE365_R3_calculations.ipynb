{
 "cells": [
  {
   "cell_type": "markdown",
   "id": "3b7554a2",
   "metadata": {},
   "source": [
    "## Script for Equations of Power Elec project 3"
   ]
  },
  {
   "cell_type": "code",
   "execution_count": 1,
   "id": "487b248f",
   "metadata": {},
   "outputs": [],
   "source": [
    "import numpy as np\n",
    "import matplotlib.pyplot as plt"
   ]
  },
  {
   "cell_type": "code",
   "execution_count": 2,
   "id": "c4948d37",
   "metadata": {},
   "outputs": [],
   "source": [
    "######################\n",
    "#   CONSTANT VALUES  #\n",
    "######################\n",
    "\n",
    "P_out_nom = 50     # W\n",
    "P_out_min = 10     # W\n",
    "U_in_nom  = 50     # V\n",
    "U_in_min  = 30     # V\n",
    "U_in_max  = 60     # V\n",
    "U_out     = 24     # V\n",
    "D_U_out   = 0.02   # (2%)\n",
    "f_sw      = 360000 # Hz\n",
    "\n",
    "##########################\n",
    "# PREVIOUS REPORT VALUES #\n",
    "##########################\n",
    "\n",
    "L_select     = 51.59e-6# H\n",
    "Delta_IL_w1  = 0.87    # A\n",
    "IL_w1_avg    = 2.80    # A\n",
    "IL_w1_rms    = 2.82    # A\n",
    "IL_w1_peak   = 3.24    # A\n",
    "IL_w2_rms    = 2.24    # A\n",
    "P_L_w1_loss_goal =1    #% max val\n",
    "P_L_w2_loss_goal =1    #% max val\n",
    "Delta_T_goal = 50      #K max val\n",
    "N            = 1.15    # transformer ratio"
   ]
  },
  {
   "cell_type": "markdown",
   "id": "cb5c699b",
   "metadata": {},
   "source": [
    "### Q1 Selection output capacitor"
   ]
  },
  {
   "cell_type": "code",
   "execution_count": 3,
   "id": "bc63701b",
   "metadata": {},
   "outputs": [
    {
     "name": "stdout",
     "output_type": "stream",
     "text": [
      "U_out_safety = 28.80 V\n"
     ]
    }
   ],
   "source": [
    "U_out_safety = U_out * 1.2 # safety margin\n",
    "print(\"U_out_safety = {:.2f} V\".format(U_out_safety))"
   ]
  },
  {
   "cell_type": "code",
   "execution_count": 4,
   "id": "39dd9dde",
   "metadata": {},
   "outputs": [
    {
     "name": "stdout",
     "output_type": "stream",
     "text": [
      "The calculated capacitor value is: 8.92 µF\n",
      "The value of the previous report is: 5.78 µF\n",
      "The nominal value of the capacitor is: 15.00 µF\n"
     ]
    }
   ],
   "source": [
    "ref = \"\"\n",
    "C_out_R1 = 5.78e-6 # F\n",
    "C_out_nom = 15e-6 # F\n",
    "C_out_freq_loss = (15 - 14.77) / 15 # 0.015\n",
    "C_out_volt_loss = 0.396 #9µF\n",
    "\n",
    "C_out_min = C_out_nom * (1 - C_out_volt_loss) * (1 - C_out_freq_loss)\n",
    "\n",
    "print(\"The calculated capacitor value is: {:.2f} µF\".format(C_out_min*1e6))\n",
    "print(\"The value of the previous report is: {:.2f} µF\".format(C_out_R1*1e6))\n",
    "print(\"The nominal value of the capacitor is: {:.2f} µF\".format(C_out_nom*1e6))"
   ]
  },
  {
   "cell_type": "code",
   "execution_count": 5,
   "id": "118923d1",
   "metadata": {},
   "outputs": [
    {
     "name": "stdout",
     "output_type": "stream",
     "text": [
      "C_out_freq_loss: 0.028\n",
      "The calculated capacitor value is: 5.97 µF\n",
      "The value of the previous report is: 5.78 µF\n",
      "The nominal value of the capacitor is: 10.00 µF\n"
     ]
    }
   ],
   "source": [
    "ref = \"\"\n",
    "C_out_R1 = 5.78e-6 # F\n",
    "C_out_nom = 10e-6 # F\n",
    "C_out_freq_loss = (10 - 9.72) / 10 # 0.028\n",
    "print(\"C_out_freq_loss: {:.3f}\".format(C_out_freq_loss))\n",
    "C_out_volt_loss = 0.386\n",
    "\n",
    "C_out_min = C_out_nom * (1 - C_out_volt_loss) * (1 - C_out_freq_loss)\n",
    "\n",
    "print(\"The calculated capacitor value is: {:.2f} µF\".format(C_out_min*1e6))\n",
    "print(\"The value of the previous report is: {:.2f} µF\".format(C_out_R1*1e6))\n",
    "print(\"The nominal value of the capacitor is: {:.2f} µF\".format(C_out_nom*1e6))"
   ]
  },
  {
   "cell_type": "markdown",
   "id": "70a81f41",
   "metadata": {},
   "source": [
    "### Q2 ESR and IMPEDANCE"
   ]
  },
  {
   "cell_type": "code",
   "execution_count": 6,
   "id": "77e6f7b1",
   "metadata": {},
   "outputs": [
    {
     "name": "stdout",
     "output_type": "stream",
     "text": [
      "ESR: 4.04 mOhm\n",
      "Impedance: 45.67 mOhm\n"
     ]
    }
   ],
   "source": [
    "C_out_ESR = 4.04e-3 # Ohm\n",
    "C_out_impedance = 45.67e-3 # Ohm\n",
    "\n",
    "print(\"ESR: {:.2f} mOhm\".format(C_out_ESR*1e3))\n",
    "print(\"Impedance: {:.2f} mOhm\".format(C_out_impedance*1e3))"
   ]
  },
  {
   "cell_type": "markdown",
   "id": "b4dabc25",
   "metadata": {},
   "source": [
    "### Q3 Current Ripple and power verification"
   ]
  },
  {
   "cell_type": "code",
   "execution_count": 7,
   "id": "d6870265",
   "metadata": {},
   "outputs": [
    {
     "name": "stdout",
     "output_type": "stream",
     "text": [
      "the rms current in the capacitor is: 2.24 A\n",
      "ESR power loss: 1.20 W\n",
      "ESR power loss nominal: 20.2711 mW\n",
      "ESR power loss goal: 1.00 W\n"
     ]
    }
   ],
   "source": [
    "print(\"the rms current in the capacitor is: {:.2f} A\".format(IL_w2_rms))\n",
    "\n",
    "I_rms_C_out_max = 17.23 # A\n",
    "\n",
    "\n",
    "# Here nominal is used for the normal rms current through C_out \n",
    "# and the max is used for the max rms current through C_out possible at f_sw = 360kHz\n",
    "P_ESR_out_max = C_out_ESR * I_rms_C_out_max**2 # W\n",
    "P_ESR_out_nom = C_out_ESR * IL_w2_rms**2 # W\n",
    "\n",
    "print(\"ESR power loss: {:.2f} W\".format(P_ESR_out_max))\n",
    "print(\"ESR power loss nominal: {:.4f} mW\".format(P_ESR_out_nom*1e3))\n",
    "print(\"ESR power loss goal: {:.2f} W\".format(P_L_w2_loss_goal))"
   ]
  },
  {
   "cell_type": "markdown",
   "id": "256586fc",
   "metadata": {},
   "source": [
    "### Q4 Voltage Ripple verification"
   ]
  },
  {
   "cell_type": "code",
   "execution_count": 8,
   "id": "af3c4465",
   "metadata": {},
   "outputs": [
    {
     "name": "stdout",
     "output_type": "stream",
     "text": [
      "The nominal voltage ripple is: 0.48 V\n",
      "The max voltage ripple is: 789.70 mV\n",
      "The max voltage ripple goal is: 480.00 mV\n"
     ]
    }
   ],
   "source": [
    "print(\"The nominal voltage ripple is: {:.2f} V\".format(D_U_out*U_out))\n",
    "\n",
    "max_ripple_graph_out = 0.7897 # V\n",
    "\n",
    "print(\"The max voltage ripple is: {:.2f} mV\".format(max_ripple_graph_out*1e3))\n",
    "print(\"The max voltage ripple goal is: {:.2f} mV\".format(D_U_out*U_out*1e3))"
   ]
  },
  {
   "cell_type": "markdown",
   "id": "0dd4494e",
   "metadata": {},
   "source": [
    "### Q5 Input capacitor selection"
   ]
  },
  {
   "cell_type": "code",
   "execution_count": 9,
   "id": "6ff82746",
   "metadata": {},
   "outputs": [
    {
     "name": "stdout",
     "output_type": "stream",
     "text": [
      "The input safety voltage is: 72.00 V\n",
      "current input rms: 2.82 A\n",
      "C_in_2_min: 14.810 µF\n",
      "The calculated capacitor value is: 1014.81 µF\n",
      "The value of the previous report is: 625.00 µF\n",
      "The nominal value of the second capacitor is: 15.00 µF\n"
     ]
    }
   ],
   "source": [
    "U_in_safety = 1.2 * U_in_max # V\n",
    "print(\"The input safety voltage is: {:.2f} V\".format(U_in_safety))\n",
    "print(\"current input rms: {:.2f} A\".format(IL_w1_rms))\n",
    "\n",
    "C_in_R1 = 625.00e-6 # F\n",
    "\n",
    "C_in_1 = 1000e-6 # F\n",
    "\n",
    "C_in_2_nom = 15e-6 # F\n",
    "C_in_2_freq_loss = (15 - 14.81) / 15 # 0.013\n",
    "C_in_2_volt_loss = 0 # 9µF\n",
    "C_in_2_min = C_in_2_nom * (1 - C_in_2_volt_loss) * (1 - C_in_2_freq_loss)\n",
    "print(\"C_in_2_min: {:.3f} µF\".format(C_in_2_min*1e6))\n",
    "print(\"The calculated capacitor value is: {:.2f} µF\".format((C_in_2_min + C_in_1)*1e6))\n",
    "print(\"The value of the previous report is: {:.2f} µF\".format(C_in_R1*1e6))\n",
    "print(\"The nominal value of the second capacitor is: {:.2f} µF\".format(C_in_2_nom*1e6))\n"
   ]
  },
  {
   "cell_type": "markdown",
   "id": "093dd63d",
   "metadata": {},
   "source": [
    "### Q6 ESR and Impedance of the input capacitor"
   ]
  },
  {
   "cell_type": "code",
   "execution_count": 10,
   "id": "f959936a",
   "metadata": {},
   "outputs": [
    {
     "name": "stdout",
     "output_type": "stream",
     "text": [
      "Dissipation factor: 0.16336\n",
      "ESR at 360kHz: 0.07222 mOhm AND Impedance 0.442 mOhm\n",
      "ESR c in 2 7.610 mOhm ANd Impedance 29840.000 mOhm\n",
      "########################################\n",
      "Total parallel ESR: 0.07154 mOhm\n",
      "total Parallel Impedance: 223.31615 mOhm\n",
      "TO CHECK: The max voltage ripple is: 27200.00 mV\n"
     ]
    }
   ],
   "source": [
    "\n",
    "#ELECTROLYT C IN\n",
    "C_in_ESR_100 = 0.260 # Ohm at 100Hz\n",
    "C_in_Impedance_10 = 0.225 # Ohm at 10kHz\n",
    "#print(\"impedance at 10kHz: {:.2f} mOhm OR {:.3f}\".format(C_in_Impedance_10*1e3, 1/(2*np.pi*10000*C_in_2_nom)))\n",
    "dissipation_factor = C_in_ESR_100 * 2 * np.pi * 100 *C_in_1\n",
    "print(\"Dissipation factor: {:.5f}\".format(dissipation_factor))\n",
    "\n",
    "C_in_ESR_360 = dissipation_factor / (2*np.pi*360000*C_in_1)\n",
    "print(\"ESR at 360kHz: {:.5f} mOhm AND Impedance {:.3f} mOhm\".format(C_in_ESR_360*1e3, 1/(2*np.pi*360000*C_in_1)*1e3))\n",
    "\n",
    "\n",
    "#CERAMIC C IN\n",
    "C_in_ESR_2 = 0.00761 # Ohm\n",
    "C_in_Impedance_2 = 29.84 # Ohm\n",
    "C_in_voltage_ripple = 27.2 # V\n",
    "\n",
    "print(\"ESR c in 2 {:.3f} mOhm ANd Impedance {:.3f} mOhm\".format(C_in_ESR_2*1e3, C_in_Impedance_2*1e3))\n",
    "\n",
    "print('#'*40)\n",
    "#PARALLEL C IN\n",
    "C_in_ESR = (C_in_ESR_360 * C_in_ESR_2) / (C_in_ESR_360 + C_in_ESR_2)\n",
    "C_in_impedance = (C_in_Impedance_10 * C_in_Impedance_2) / (C_in_Impedance_10 + C_in_Impedance_2)\n",
    "print(\"Total parallel ESR: {:.5f} mOhm\".format(C_in_ESR*1e3))\n",
    "print(\"total Parallel Impedance: {:.5f} mOhm\".format(C_in_impedance*1e3))\n",
    "print(\"TO CHECK: The max voltage ripple is: {:.2f} mV\".format(C_in_voltage_ripple*1e3))"
   ]
  },
  {
   "cell_type": "markdown",
   "id": "794304a5",
   "metadata": {},
   "source": [
    "### Q7 Current Ripple and power verification of the input capacitor"
   ]
  },
  {
   "cell_type": "code",
   "execution_count": 11,
   "id": "5e38aaef",
   "metadata": {},
   "outputs": [
    {
     "name": "stdout",
     "output_type": "stream",
     "text": [
      "The rms current in the capacitor is: 2.82 A\n",
      "I_rms_C_in_max_10: 2.96 A\n",
      "ESR power loss: 0.63 mW\n",
      "ESR power loss nominal: 0.56894 mW\n"
     ]
    }
   ],
   "source": [
    "print(\"The rms current in the capacitor is: {:.2f} A\".format(IL_w1_rms))\n",
    "I_rms_C_in_max_360 = 2.96 # A\n",
    "print(\"I_rms_C_in_max_10: {:.2f} A\".format(I_rms_C_in_max_360))\n",
    "\n",
    "P_ESR_in_max = C_in_ESR * I_rms_C_in_max_360**2 # W\n",
    "P_ESR_in_nom = C_in_ESR * IL_w1_rms**2 # W\n",
    "print(\"ESR power loss: {:.2f} mW\".format(P_ESR_in_max*1e3))\n",
    "print(\"ESR power loss nominal: {:.5f} mW\".format(P_ESR_in_nom*1e3))"
   ]
  },
  {
   "cell_type": "markdown",
   "id": "85b5ee34",
   "metadata": {},
   "source": [
    "### Q8 discharge resistor"
   ]
  },
  {
   "cell_type": "code",
   "execution_count": 12,
   "id": "fb77b628",
   "metadata": {},
   "outputs": [
    {
     "name": "stdout",
     "output_type": "stream",
     "text": [
      "The maximum resistor value to discharge the capacitor in 1 min is: 442.10 kOhm\n"
     ]
    },
    {
     "ename": "NameError",
     "evalue": "name 'C_in_nom' is not defined",
     "output_type": "error",
     "traceback": [
      "\u001b[1;31m---------------------------------------------------------------------------\u001b[0m",
      "\u001b[1;31mNameError\u001b[0m                                 Traceback (most recent call last)",
      "Cell \u001b[1;32mIn[12], line 5\u001b[0m\n\u001b[0;32m      2\u001b[0m R_discharge \u001b[38;5;241m=\u001b[39m np\u001b[38;5;241m.\u001b[39mlog(\u001b[38;5;241m1\u001b[39m\u001b[38;5;241m/\u001b[39m\u001b[38;5;241m0.01\u001b[39m) \u001b[38;5;241m*\u001b[39m \u001b[38;5;241m60\u001b[39m \u001b[38;5;241m/\u001b[39m C_in_R1\n\u001b[0;32m      3\u001b[0m \u001b[38;5;28mprint\u001b[39m(\u001b[38;5;124m\"\u001b[39m\u001b[38;5;124mThe maximum resistor value to discharge the capacitor in 1 min is: \u001b[39m\u001b[38;5;132;01m{:.2f}\u001b[39;00m\u001b[38;5;124m kOhm\u001b[39m\u001b[38;5;124m\"\u001b[39m\u001b[38;5;241m.\u001b[39mformat(R_discharge\u001b[38;5;241m*\u001b[39m\u001b[38;5;241m1e-3\u001b[39m))\n\u001b[1;32m----> 5\u001b[0m R_in \u001b[38;5;241m=\u001b[39m np\u001b[38;5;241m.\u001b[39mlog(\u001b[38;5;241m1\u001b[39m\u001b[38;5;241m/\u001b[39m\u001b[38;5;241m0.01\u001b[39m) \u001b[38;5;241m*\u001b[39m \u001b[38;5;241m60\u001b[39m \u001b[38;5;241m/\u001b[39m \u001b[43mC_in_nom\u001b[49m\n\u001b[0;32m      6\u001b[0m \u001b[38;5;28mprint\u001b[39m(\u001b[38;5;124m\"\u001b[39m\u001b[38;5;124mThe maximum resistor value to discharge the capacitor in 1 min is: \u001b[39m\u001b[38;5;132;01m{:.2f}\u001b[39;00m\u001b[38;5;124m kOhm\u001b[39m\u001b[38;5;124m\"\u001b[39m\u001b[38;5;241m.\u001b[39mformat(R_in\u001b[38;5;241m*\u001b[39m\u001b[38;5;241m1e-3\u001b[39m))\n\u001b[0;32m      8\u001b[0m P_R_in \u001b[38;5;241m=\u001b[39m U_in_max\u001b[38;5;241m*\u001b[39m\u001b[38;5;241m*\u001b[39m\u001b[38;5;241m2\u001b[39m \u001b[38;5;241m/\u001b[39m R_in \u001b[38;5;66;03m# W\u001b[39;00m\n",
      "\u001b[1;31mNameError\u001b[0m: name 'C_in_nom' is not defined"
     ]
    }
   ],
   "source": [
    "#maximum resistor value to discharge capacitor in 1 min\n",
    "R_discharge = np.log(1/0.01) * 60 / C_in_R1\n",
    "print(\"The maximum resistor value to discharge the capacitor in 1 min is: {:.2f} kOhm\".format(R_discharge*1e-3))\n",
    "\n",
    "R_in = np.log(1/0.01) * 60 / C_in_nom\n",
    "print(\"The maximum resistor value to discharge the capacitor in 1 min is: {:.2f} kOhm\".format(R_in*1e-3))\n",
    "\n",
    "P_R_in = U_in_max**2 / R_in # W\n",
    "print(\"The power loss in the input resistor is: {:.2f} mW\".format(P_R_in*1e3))\n",
    "\n",
    "#Same for output\n",
    "print(\"The minimum capacitor value to discharge the capacitor in 1 min is: {:.2f} µF\".format(C_out_R1*1e6))\n",
    "R_out_max = np.log(1/0.01) * 60 / C_out_R1\n",
    "print(\"The maximum resistor value to discharge the capacitor in 1 min is: {:.2f} kOhm\".format(R_out_max*1e-3))\n",
    "P_R_out_max = U_out**2 / R_out_max # W\n",
    "print(\"The power loss in the output resistor is: {:.5f} mW\".format(P_R_out_max*1e3))\n",
    "####\n",
    "print(\"The calculated output capacitor value is: {:.2f} µF\".format(C_out_nom*1e6))\n",
    "R_out = np.log(1/0.01) * 60 / C_out_nom\n",
    "print(\"The calculated resistor value to discharge the capacitor in 1 min is: {:.2f} kOhm\".format(R_out*1e-3))\n",
    "P_R_out = U_out**2 / R_out # W\n",
    "print(\"The power loss in the output resistor is: {:.5f} mW\".format(P_R_out*1e3))"
   ]
  },
  {
   "cell_type": "markdown",
   "id": "f91223db",
   "metadata": {},
   "source": [
    "## CONTROLLER CONFIGURATION\n",
    "### Q9 Oscillator frequency settings"
   ]
  },
  {
   "cell_type": "code",
   "execution_count": null,
   "id": "2a059f24",
   "metadata": {},
   "outputs": [
    {
     "name": "stdout",
     "output_type": "stream",
     "text": [
      "The frequency of the oscillator is: 720.00 kHz\n",
      "The capacitor value of the CT is: 1.00 nF\n",
      "The resistor value of the RT is: 1.53 Ohm\n"
     ]
    }
   ],
   "source": [
    "f_osc = f_sw * 2 # Hz\n",
    "print(\"The frequency of the oscillator is: {:.2f} kHz\".format(f_osc*1e-3))\n",
    "R_RT = 10**(2/10.8) #Ohm\n",
    "C_CT = 1e-9 # F\n",
    "print(\"The capacitor value of the CT is: {:.2f} nF\".format(C_CT*1e9))\n",
    "print(\"The resistor value of the RT is: {:.2f} Ohm\".format(R_RT))"
   ]
  },
  {
   "cell_type": "markdown",
   "id": "0b253434",
   "metadata": {},
   "source": [
    "### Q10 Reference voltage capacitor"
   ]
  },
  {
   "cell_type": "code",
   "execution_count": null,
   "id": "57dc8290",
   "metadata": {},
   "outputs": [
    {
     "name": "stdout",
     "output_type": "stream",
     "text": [
      "The capacitor value of the VREF is: 1.00 nF\n"
     ]
    }
   ],
   "source": [
    "C_VREF = C_CT\n",
    "print(\"The capacitor value of the VREF is: {:.2f} nF\".format(C_VREF*1e9))"
   ]
  },
  {
   "cell_type": "markdown",
   "id": "f1ab6920",
   "metadata": {},
   "source": [
    "## SUPPLY CIRCUIT FOR CONTROLLER\n",
    "### Q11 Choosing DC/DC regulator for PWM controller"
   ]
  },
  {
   "cell_type": "code",
   "execution_count": null,
   "id": "04098fb5",
   "metadata": {},
   "outputs": [],
   "source": [
    "C_in_reg_1 = 2.2e-6 #F\n",
    "Regulator_DC_DC_1 = \"TDN1 − 4813WISM\""
   ]
  },
  {
   "cell_type": "markdown",
   "id": "38ae2ee4",
   "metadata": {},
   "source": [
    "### Q12: Supply Capacitor for PWM controller"
   ]
  },
  {
   "cell_type": "code",
   "execution_count": null,
   "id": "b0c2fe36",
   "metadata": {},
   "outputs": [],
   "source": [
    "C_vdd = 0.1e-6 #F\n",
    "C_vdd_bp = 0.1e-6 #F"
   ]
  },
  {
   "cell_type": "markdown",
   "id": "220f3545",
   "metadata": {},
   "source": [
    "## GATE DRIVER CONSIDERATIONS\n",
    "\n",
    "## SUPPLY CIRCUIT FOR GATE DRIVERS\n",
    "### Q13 Choosing DC/DC Regulator(s) for gate Drivers"
   ]
  },
  {
   "cell_type": "code",
   "execution_count": null,
   "id": "5ccc7988",
   "metadata": {},
   "outputs": [],
   "source": [
    "C_in_reg_2 = 2.2e-6 #F\n",
    "Regulator_DC_DC_2 = \"TSR-0.6-48150WI\""
   ]
  },
  {
   "cell_type": "markdown",
   "id": "38394ce6",
   "metadata": {},
   "source": [
    "### Q14 Supply capacitor for gate drivers"
   ]
  },
  {
   "cell_type": "code",
   "execution_count": 15,
   "id": "e5df717f",
   "metadata": {},
   "outputs": [
    {
     "name": "stdout",
     "output_type": "stream",
     "text": [
      "The minimum capacitor value for the V_CC is: 0.34 µF\n",
      "The minimum capacitor value for the V_BS is: 0.53 µF\n"
     ]
    }
   ],
   "source": [
    "#Quiescent supply currents\n",
    "I_Q_BS = 50e-6 # A\n",
    "I_Q_BS_max = 240e-6 # A\n",
    "I_Q_CC = 70e-6 # A\n",
    "I_Q_CC_max = 340e-6 # A\n",
    "\n",
    "Q_G_max = 26e-9 # C\n",
    "\n",
    "t = 1e-3 # s\n",
    "\n",
    "C_V_CC_min = I_Q_CC_max*t/1\n",
    "\n",
    "C_V_BS_min = (Q_G_max + I_Q_BS_max*t)/0.5\n",
    "\n",
    "print(\"The minimum capacitor value for the V_CC is: {:.2f} µF\".format(C_V_CC_min*1e6))\n",
    "print(\"The minimum capacitor value for the V_BS is: {:.2f} µF\".format(C_V_BS_min*1e6))\n"
   ]
  },
  {
   "cell_type": "markdown",
   "id": "2cd3f2f0",
   "metadata": {},
   "source": [
    "### Q15 Choice of the gate resistors"
   ]
  },
  {
   "cell_type": "code",
   "execution_count": 19,
   "id": "1aaace9f",
   "metadata": {},
   "outputs": [
    {
     "name": "stdout",
     "output_type": "stream",
     "text": [
      "The minimum resistor value is: 45.50 Ohm\n"
     ]
    }
   ],
   "source": [
    "R_driver = 2.5 # Ohm\n",
    "R_G_int = 12 # Ohm\n",
    "V_drive = 15 # V\n",
    "I_max = 0.25 # A\n",
    "R_min = V_drive / I_max - R_driver - R_G_int\n",
    "print(\"The minimum resistor value is: {:.2f} Ohm\".format(R_min))"
   ]
  },
  {
   "cell_type": "markdown",
   "id": "3fb3eab3",
   "metadata": {},
   "source": [
    "### Q16 Power losses of gate resistor"
   ]
  },
  {
   "cell_type": "code",
   "execution_count": 25,
   "id": "fdc5ceca",
   "metadata": {},
   "outputs": [
    {
     "name": "stdout",
     "output_type": "stream",
     "text": [
      "The average current during turn on is: 0.76 A\n",
      "The average current during turn off is: 1.08 A\n",
      "The average current is: 1.31 A\n",
      "The power loss in the gate resistor is: 7054411764.71 mW\n",
      "The power loss in the gate resistor is: 70.20 mW\n"
     ]
    }
   ],
   "source": [
    "rise_time = 34e-9 # ns\n",
    "fall_time = 24e-9 # ns\n",
    "I_avg_on = Q_G_max / (rise_time) # A\n",
    "I_avg_off = Q_G_max / (fall_time) # A\n",
    "print(\"The average current during turn on is: {:.2f} A\".format(I_avg_on))\n",
    "print(\"The average current during turn off is: {:.2f} A\".format(I_avg_off))\n",
    "\n",
    "I_avg = I_avg_on + I_avg_off/2 # A\n",
    "print(\"The average current is: {:.2f} A\".format(I_avg))\n",
    "P_R_G = I_avg * V_drive * f_sw # W\n",
    "print(\"The power loss in the gate resistor is: {:.2f} mW\".format(P_R_G*1e3))\n",
    "\n",
    "P_R_G = Q_G_max * V_drive * f_sw / 2\n",
    "print(\"The power loss in the gate resistor is: {:.2f} mW\".format(P_R_G*1e3))"
   ]
  },
  {
   "cell_type": "markdown",
   "id": "7228e27f",
   "metadata": {},
   "source": [
    "## Auxiliary supply power consideration\n",
    "### Q17: IC Power consumptions"
   ]
  },
  {
   "cell_type": "code",
   "execution_count": 26,
   "id": "a0c384bb",
   "metadata": {},
   "outputs": [
    {
     "name": "stdout",
     "output_type": "stream",
     "text": [
      "The power loss in the PWM IC is: 625.00 mW\n",
      "The power loss in the VCC is: 11475.69 mW\n",
      "The power loss in the VBS is: 3.60 mW\n",
      "The power loss in the GD is: 11479.29 mW\n"
     ]
    }
   ],
   "source": [
    "P_D_PWM_IC = 0.625 # W\n",
    "print(\"The power loss in the PWM IC is: {:.2f} mW\".format(P_D_PWM_IC*1e3))\n",
    "\n",
    "P_D_VCC = V_drive * (I_Q_CC_max + I_avg_on) # W\n",
    "print(\"The power loss in the VCC is: {:.2f} mW\".format(P_D_VCC*1e3))\n",
    "P_D_VBS = V_drive * (I_Q_BS_max) # W\n",
    "print(\"The power loss in the VBS is: {:.2f} mW\".format(P_D_VBS*1e3))\n",
    "\n",
    "P_D_GD = P_D_VCC + P_D_VBS #W\n",
    "print(\"The power loss in the GD is: {:.2f} mW\".format(P_D_GD*1e3))\n"
   ]
  },
  {
   "cell_type": "markdown",
   "id": "00d4e468",
   "metadata": {},
   "source": [
    "### Q18: DC/DC Regulators rating evaluation and overall converter efficiency"
   ]
  },
  {
   "cell_type": "code",
   "execution_count": 29,
   "id": "5de3d365",
   "metadata": {},
   "outputs": [
    {
     "name": "stdout",
     "output_type": "stream",
     "text": [
      "The total power loss in the transformer is: 5610.00 mW\n",
      "The efficiency is: 73.84 %\n"
     ]
    }
   ],
   "source": [
    "P_T_cond = 0.90 #3.225\n",
    "P_D_rec = 2.62 # W\n",
    "P_T_SW = 1.19 # W\n",
    "P_T_total = 2*P_T_cond + P_T_SW + P_D_rec # W\n",
    "print(\"The total power loss in the transformer is: {:.2f} mW\".format(P_T_total*1e3))\n",
    "\n",
    "efficiency = P_out_nom / (P_out_nom + P_T_total + P_D_PWM_IC + P_D_GD) * 100 # %\n",
    "print(\"The efficiency is: {:.2f} %\".format(efficiency))"
   ]
  },
  {
   "cell_type": "markdown",
   "id": "bcc4b8d1",
   "metadata": {},
   "source": [
    "## Current Measurement\n",
    "### Q19: current sensing shunt resistor"
   ]
  },
  {
   "cell_type": "code",
   "execution_count": 32,
   "id": "e06961dc",
   "metadata": {},
   "outputs": [
    {
     "name": "stdout",
     "output_type": "stream",
     "text": [
      "The voltage drop across the current sense resistor is: 5.04 V\n",
      "The resistor value is: 168.00 Ohm\n",
      "The power loss in the resistor is: 151.20 mW\n"
     ]
    }
   ],
   "source": [
    "V_CS_max = 6.3 # V\n",
    "Delta_V = 0.8*V_CS_max # V\n",
    "print(\"The voltage drop across the current sense resistor is: {:.2f} V\".format(Delta_V))\n",
    "I_VDD = 0.03 # A\n",
    "R_CS = Delta_V / I_VDD # Ohm\n",
    "print(\"The resistor value is: {:.2f} Ohm\".format(R_CS))\n",
    "power_loss_R_CS = I_VDD**2 * R_CS # W\n",
    "print(\"The power loss in the resistor is: {:.2f} mW\".format(power_loss_R_CS*1e3))"
   ]
  },
  {
   "cell_type": "markdown",
   "id": "b37ff9b8",
   "metadata": {},
   "source": [
    "### Q20: Current measurement filtering"
   ]
  },
  {
   "cell_type": "code",
   "execution_count": null,
   "id": "f1dad2af",
   "metadata": {},
   "outputs": [],
   "source": []
  },
  {
   "cell_type": "markdown",
   "id": "74fd00f2",
   "metadata": {},
   "source": [
    "## Compensation network Design\n",
    "### Q21: Steady-State control-to-output characteristics"
   ]
  },
  {
   "cell_type": "code",
   "execution_count": null,
   "id": "8e6da182",
   "metadata": {},
   "outputs": [],
   "source": []
  },
  {
   "cell_type": "markdown",
   "id": "1bcb84a0",
   "metadata": {},
   "source": [
    "### Q22: Control-to-output transfer function"
   ]
  },
  {
   "cell_type": "code",
   "execution_count": null,
   "id": "f75e78f2",
   "metadata": {},
   "outputs": [],
   "source": []
  },
  {
   "cell_type": "markdown",
   "id": "63e13c11",
   "metadata": {},
   "source": [
    "### Q23: Control-to-output bode diagram"
   ]
  },
  {
   "cell_type": "code",
   "execution_count": null,
   "id": "fa56f8de",
   "metadata": {},
   "outputs": [],
   "source": []
  },
  {
   "cell_type": "markdown",
   "id": "944e5373",
   "metadata": {},
   "source": [
    "### Q24: Type II controller transfer function design"
   ]
  },
  {
   "cell_type": "code",
   "execution_count": null,
   "id": "175d6077",
   "metadata": {},
   "outputs": [],
   "source": []
  },
  {
   "cell_type": "markdown",
   "id": "2570f9db",
   "metadata": {},
   "source": [
    "### Q25: Ideal type II controller transfer function verification"
   ]
  },
  {
   "cell_type": "code",
   "execution_count": null,
   "id": "da9a792c",
   "metadata": {},
   "outputs": [],
   "source": []
  },
  {
   "cell_type": "markdown",
   "id": "7b670ce2",
   "metadata": {},
   "source": [
    "### Q26: Type II Controller Implementation"
   ]
  },
  {
   "cell_type": "code",
   "execution_count": null,
   "id": "100e62bc",
   "metadata": {},
   "outputs": [],
   "source": []
  },
  {
   "cell_type": "markdown",
   "id": "bbc39368",
   "metadata": {},
   "source": [
    "### Q27: Reference output voltage settings"
   ]
  },
  {
   "cell_type": "code",
   "execution_count": null,
   "id": "e8b176c7",
   "metadata": {},
   "outputs": [],
   "source": []
  },
  {
   "cell_type": "markdown",
   "id": "73076f92",
   "metadata": {},
   "source": [
    "### Q28: compensation zero components"
   ]
  },
  {
   "cell_type": "code",
   "execution_count": null,
   "id": "6d80aaf3",
   "metadata": {},
   "outputs": [],
   "source": []
  },
  {
   "cell_type": "markdown",
   "id": "c888763c",
   "metadata": {},
   "source": [
    "### Q29: Compensation pole components"
   ]
  },
  {
   "cell_type": "code",
   "execution_count": null,
   "id": "e2517302",
   "metadata": {},
   "outputs": [],
   "source": []
  },
  {
   "cell_type": "markdown",
   "id": "da394c8b",
   "metadata": {},
   "source": [
    "### Q30: FB pin resistor"
   ]
  },
  {
   "cell_type": "code",
   "execution_count": null,
   "id": "834030a4",
   "metadata": {},
   "outputs": [],
   "source": []
  },
  {
   "cell_type": "markdown",
   "id": "c31d713d",
   "metadata": {},
   "source": [
    "### Q31: Optocoupler resistor"
   ]
  },
  {
   "cell_type": "code",
   "execution_count": null,
   "id": "0576239c",
   "metadata": {},
   "outputs": [],
   "source": []
  },
  {
   "cell_type": "markdown",
   "id": "e6bf3b47",
   "metadata": {},
   "source": [
    "### Q32: optocoupler input current and CTR computation"
   ]
  },
  {
   "cell_type": "code",
   "execution_count": null,
   "id": "84566f76",
   "metadata": {},
   "outputs": [],
   "source": []
  },
  {
   "cell_type": "markdown",
   "id": "b5f2fba8",
   "metadata": {},
   "source": [
    "### Q33: LED Resistor"
   ]
  },
  {
   "cell_type": "code",
   "execution_count": null,
   "id": "de648895",
   "metadata": {},
   "outputs": [],
   "source": []
  },
  {
   "cell_type": "markdown",
   "id": "5359cc4f",
   "metadata": {},
   "source": [
    "### Q34: TL431 Voltage Verification"
   ]
  },
  {
   "cell_type": "code",
   "execution_count": null,
   "id": "9a0898ff",
   "metadata": {},
   "outputs": [],
   "source": []
  },
  {
   "cell_type": "markdown",
   "id": "7b57df8e",
   "metadata": {},
   "source": [
    "### Q35: TL431 Current Verification"
   ]
  },
  {
   "cell_type": "code",
   "execution_count": null,
   "id": "3166b432",
   "metadata": {},
   "outputs": [],
   "source": []
  },
  {
   "cell_type": "markdown",
   "id": "18c3cdc9",
   "metadata": {},
   "source": [
    "### Q36: Type II Controller Verification"
   ]
  },
  {
   "cell_type": "code",
   "execution_count": null,
   "id": "28ad047a",
   "metadata": {},
   "outputs": [],
   "source": []
  },
  {
   "cell_type": "markdown",
   "id": "aea38720",
   "metadata": {},
   "source": [
    "### Q37: PLECS Verification"
   ]
  },
  {
   "cell_type": "code",
   "execution_count": null,
   "id": "3e40172d",
   "metadata": {},
   "outputs": [],
   "source": []
  },
  {
   "cell_type": "markdown",
   "id": "bfe37e37",
   "metadata": {},
   "source": [
    "## Schematic and PCB\n",
    "### Q38: Schematic Layout\n",
    "Picture of the schematic in ALTIUM"
   ]
  },
  {
   "cell_type": "markdown",
   "id": "736d1da6",
   "metadata": {},
   "source": [
    "### Q39: Minimal Copper Width"
   ]
  },
  {
   "cell_type": "code",
   "execution_count": null,
   "id": "cce55077",
   "metadata": {},
   "outputs": [
    {
     "name": "stdout",
     "output_type": "stream",
     "text": [
      "The copper thickness is: 2.64 mm\n"
     ]
    }
   ],
   "source": [
    "current_density_max = 35e6 # A/m^2\n",
    "copper_thickness = 35e-6 # m\n",
    "IL_w1_peak = 3.24 # A\n",
    "d_Cu = IL_w1_peak/current_density_max/copper_thickness # m\n",
    "print(\"The copper thickness is: {:.2f} mm\".format(d_Cu*1e3))"
   ]
  },
  {
   "cell_type": "markdown",
   "id": "1e1abc92",
   "metadata": {},
   "source": [
    "***\n",
    "### Q7 Minimum Frequency oscillator setting"
   ]
  },
  {
   "cell_type": "code",
   "execution_count": null,
   "id": "7e204e4d",
   "metadata": {},
   "outputs": [
    {
     "name": "stdout",
     "output_type": "stream",
     "text": [
      "The time constant is: 0.01 ms\n",
      "The minimum resistor value is: 12.00 kOhm\n",
      "The minimum capacitor value is: 470.00 pF\n",
      "The time constant is: 0.01 ms\n",
      "The minimum resistor value is: 10.00 kOhm\n",
      "The minimum capacitor value is: 564.00 pF\n"
     ]
    }
   ],
   "source": [
    "RF_min_data = 12e3 # Ohm\n",
    "C_F_data = 470e-12 # F\n",
    "tau_data = RF_min_data * C_F_data # s\n",
    "\n",
    "print(\"The time constant is: {:.2f} ms\".format(tau_data*1e3))\n",
    "print(\"The minimum resistor value is: {:.2f} kOhm\".format(RF_min_data*1e-3))\n",
    "print(\"The minimum capacitor value is: {:.2f} pF\".format(C_F_data*1e12))\n",
    "\n",
    "RF_min_val = 10e3 # Ohm\n",
    "C_F_val = tau_data / RF_min_val # F\n",
    "print(\"The time constant is: {:.2f} ms\".format(tau_data*1e3))\n",
    "print(\"The minimum resistor value is: {:.2f} kOhm\".format(RF_min_val*1e-3))\n",
    "print(\"The minimum capacitor value is: {:.2f} pF\".format(C_F_val*1e12))\n"
   ]
  },
  {
   "cell_type": "markdown",
   "id": "b51cfced",
   "metadata": {},
   "source": [
    "### Q8 Burst mode: operation at no load or very light load"
   ]
  },
  {
   "cell_type": "code",
   "execution_count": null,
   "id": "3ee81ec5",
   "metadata": {},
   "outputs": [
    {
     "name": "stdout",
     "output_type": "stream",
     "text": [
      "The maximum resistor value is: 62.00 kOhm\n",
      "The factor is: 39.32\n",
      "The resistor B value is: 2949.19 Ohm\n",
      "The resistor A value is: 75.00 Ohm\n",
      "The capacitor value is: 220.00 pF\n"
     ]
    }
   ],
   "source": [
    "V_STBY_data = 1.24 # V\n",
    "I_STBY_approx = 20e-6 # A\n",
    "R_Fmax = V_STBY_data / I_STBY_approx # Ohm\n",
    "print(\"The maximum resistor value is: {:.2f} kOhm\".format(R_Fmax*1e-3))\n",
    "\n",
    "factor = U_in_nom / V_STBY_data - 1\n",
    "print(\"The factor is: {:.2f}\".format(factor))\n",
    "R_A = 75 # Ohm\n",
    "R_B = R_A * factor # Ohm\n",
    "print(\"The resistor B value is: {:.2f} Ohm\".format(R_B))\n",
    "print(\"The resistor A value is: {:.2f} Ohm\".format(R_A))\n",
    "\n",
    "C_STBY = 220e-12 # F\n",
    "print(\"The capacitor value is: {:.2f} pF\".format(C_STBY*1e12))\n"
   ]
  },
  {
   "cell_type": "markdown",
   "id": "9bfd88a9",
   "metadata": {},
   "source": [
    "### Q10 bootstrap circuitry selection"
   ]
  },
  {
   "cell_type": "code",
   "execution_count": null,
   "id": "44d9facd",
   "metadata": {},
   "outputs": [
    {
     "name": "stdout",
     "output_type": "stream",
     "text": [
      "The capacitor value is: 1.69 µF\n",
      "The voltage drop is: 15.41 mV\n"
     ]
    }
   ],
   "source": [
    "Q_G = 26e-9 # C\n",
    "R_DS_on = 0.16 # Ohm\n",
    "Dead_time = 270e-9 # s\n",
    "\n",
    "C_boot = Dead_time / R_DS_on # F\n",
    "print(\"The capacitor value is: {:.2f} µF\".format(C_boot*1e6))\n",
    "V_drop = Q_G / C_boot # V\n",
    "print(\"The voltage drop is: {:.2f} mV\".format(V_drop*1e3))"
   ]
  }
 ],
 "metadata": {
  "kernelspec": {
   "display_name": "Python 3",
   "language": "python",
   "name": "python3"
  },
  "language_info": {
   "codemirror_mode": {
    "name": "ipython",
    "version": 3
   },
   "file_extension": ".py",
   "mimetype": "text/x-python",
   "name": "python",
   "nbconvert_exporter": "python",
   "pygments_lexer": "ipython3",
   "version": "3.12.0"
  }
 },
 "nbformat": 4,
 "nbformat_minor": 5
}
