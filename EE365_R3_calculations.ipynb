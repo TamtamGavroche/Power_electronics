{
 "cells": [
  {
   "cell_type": "markdown",
   "id": "3b7554a2",
   "metadata": {},
   "source": [
    "## Script for Equations of Power Elec project 2"
   ]
  },
  {
   "cell_type": "code",
   "execution_count": 1,
   "id": "487b248f",
   "metadata": {},
   "outputs": [],
   "source": [
    "import numpy as np\n",
    "import matplotlib.pyplot as plt"
   ]
  },
  {
   "cell_type": "code",
   "execution_count": 2,
   "id": "c4948d37",
   "metadata": {},
   "outputs": [],
   "source": [
    "######################\n",
    "#   CONSTANT VALUES  #\n",
    "######################\n",
    "\n",
    "P_out_nom = 50     # W\n",
    "P_out_min = 10     # W\n",
    "U_in_nom  = 50     # V\n",
    "U_in_min  = 30     # V\n",
    "U_in_max  = 60     # V\n",
    "U_out     = 24     # V\n",
    "D_U_out   = 0.02   # (2%)\n",
    "f_sw      = 360000 # Hz\n",
    "\n",
    "##########################\n",
    "# PREVIOUS REPORT VALUES #\n",
    "##########################\n",
    "\n",
    "L_select     = 51.59e-6# H\n",
    "Delta_IL_w1  = 0.87    # A\n",
    "IL_w1_avg    = 2.80    # A\n",
    "IL_w1_rms    = 2.82    # A\n",
    "IL_w1_peak   = 3.24    # A\n",
    "IL_w2_rms    = 2.24    # A\n",
    "P_L_w1_loss_goal =1    #% max val\n",
    "P_L_w2_loss_goal =1    #% max val\n",
    "Delta_T_goal = 50      #K max val\n",
    "N            = 1.15    # transformer ratio"
   ]
  },
  {
   "cell_type": "markdown",
   "id": "cb5c699b",
   "metadata": {},
   "source": [
    "### Q1 Selection output capacitor"
   ]
  },
  {
   "cell_type": "code",
   "execution_count": 3,
   "id": "bc63701b",
   "metadata": {},
   "outputs": [
    {
     "name": "stdout",
     "output_type": "stream",
     "text": [
      "U_out_safety = 28.80 V\n"
     ]
    }
   ],
   "source": [
    "U_out_safety = U_out * 1.2 # safety margin\n",
    "print(\"U_out_safety = {:.2f} V\".format(U_out_safety))"
   ]
  },
  {
   "cell_type": "code",
   "execution_count": 4,
   "id": "39dd9dde",
   "metadata": {},
   "outputs": [
    {
     "name": "stdout",
     "output_type": "stream",
     "text": [
      "The calculated capacitor value is: 8.92 µF\n",
      "The value of the previous report is: 5.78 µF\n",
      "The nominal value of the capacitor is: 15.00 µF\n"
     ]
    }
   ],
   "source": [
    "ref = \"\"\n",
    "C_out_R1 = 5.78e-6 # F\n",
    "C_out_nom = 15e-6 # F\n",
    "C_out_freq_loss = (15 - 14.77) / 15 # 0.015\n",
    "C_out_volt_loss = 0.396 #9µF\n",
    "\n",
    "C_out_min = C_out_nom * (1 - C_out_volt_loss) * (1 - C_out_freq_loss)\n",
    "\n",
    "print(\"The calculated capacitor value is: {:.2f} µF\".format(C_out_min*1e6))\n",
    "print(\"The value of the previous report is: {:.2f} µF\".format(C_out_R1*1e6))\n",
    "print(\"The nominal value of the capacitor is: {:.2f} µF\".format(C_out_nom*1e6))"
   ]
  },
  {
   "cell_type": "code",
   "execution_count": 5,
   "id": "118923d1",
   "metadata": {},
   "outputs": [
    {
     "name": "stdout",
     "output_type": "stream",
     "text": [
      "C_out_freq_loss: 0.028\n",
      "The calculated capacitor value is: 5.97 µF\n",
      "The value of the previous report is: 5.78 µF\n",
      "The nominal value of the capacitor is: 10.00 µF\n"
     ]
    }
   ],
   "source": [
    "ref = \"\"\n",
    "C_out_R1 = 5.78e-6 # F\n",
    "C_out_nom = 10e-6 # F\n",
    "C_out_freq_loss = (10 - 9.72) / 10 # 0.028\n",
    "print(\"C_out_freq_loss: {:.3f}\".format(C_out_freq_loss))\n",
    "C_out_volt_loss = 0.386\n",
    "\n",
    "C_out_min = C_out_nom * (1 - C_out_volt_loss) * (1 - C_out_freq_loss)\n",
    "\n",
    "print(\"The calculated capacitor value is: {:.2f} µF\".format(C_out_min*1e6))\n",
    "print(\"The value of the previous report is: {:.2f} µF\".format(C_out_R1*1e6))\n",
    "print(\"The nominal value of the capacitor is: {:.2f} µF\".format(C_out_nom*1e6))"
   ]
  },
  {
   "cell_type": "markdown",
   "id": "70a81f41",
   "metadata": {},
   "source": [
    "### Q2 ESR and IMPEDANCE"
   ]
  },
  {
   "cell_type": "code",
   "execution_count": 6,
   "id": "77e6f7b1",
   "metadata": {},
   "outputs": [
    {
     "name": "stdout",
     "output_type": "stream",
     "text": [
      "ESR: 4.04 mOhm\n",
      "Impedance: 45.67 mOhm\n"
     ]
    }
   ],
   "source": [
    "C_out_ESR = 4.04e-3 # Ohm\n",
    "C_out_impedance = 45.67e-3 # Ohm\n",
    "\n",
    "print(\"ESR: {:.2f} mOhm\".format(C_out_ESR*1e3))\n",
    "print(\"Impedance: {:.2f} mOhm\".format(C_out_impedance*1e3))"
   ]
  },
  {
   "cell_type": "markdown",
   "id": "b4dabc25",
   "metadata": {},
   "source": [
    "### Q3 Current Ripple and power verification"
   ]
  },
  {
   "cell_type": "code",
   "execution_count": 7,
   "id": "d6870265",
   "metadata": {},
   "outputs": [
    {
     "name": "stdout",
     "output_type": "stream",
     "text": [
      "the rmw current in the capacitor is: 2.58 A\n",
      "ESR power loss: 1.20 W\n",
      "ESR power loss nominal: 20.2711 mW\n",
      "ESR power loss goal: 1.00 W\n"
     ]
    }
   ],
   "source": [
    "print(\"the rmw current in the capacitor is: {:.2f} A\".format(IL_w2_rms*1.15))\n",
    "\n",
    "I_rms_C_out_max = 17.23 # A\n",
    "\n",
    "\n",
    "# Here nominal is used for the normal rms current through C_out \n",
    "# and the max is used for the max rms current through C_out possible at f_sw = 360kHz\n",
    "P_ESR_out_max = C_out_ESR * I_rms_C_out_max**2 # W\n",
    "P_ESR_out_nom = C_out_ESR * IL_w2_rms**2 # W\n",
    "\n",
    "print(\"ESR power loss: {:.2f} W\".format(P_ESR_out_max))\n",
    "print(\"ESR power loss nominal: {:.4f} mW\".format(P_ESR_out_nom*1e3))\n",
    "print(\"ESR power loss goal: {:.2f} W\".format(P_L_w2_loss_goal))"
   ]
  },
  {
   "cell_type": "markdown",
   "id": "256586fc",
   "metadata": {},
   "source": [
    "### Q4 Voltage Ripple verification"
   ]
  },
  {
   "cell_type": "code",
   "execution_count": 8,
   "id": "af3c4465",
   "metadata": {},
   "outputs": [
    {
     "name": "stdout",
     "output_type": "stream",
     "text": [
      "The nominal voltage ripple is: 0.48 V\n",
      "The max voltage ripple is: 789.70 mV\n",
      "The max voltage ripple goal is: 480.00 mV\n"
     ]
    }
   ],
   "source": [
    "print(\"The nominal voltage ripple is: {:.2f} V\".format(D_U_out*U_out))\n",
    "\n",
    "max_ripple_graph_out = 0.7897 # V\n",
    "\n",
    "print(\"The max voltage ripple is: {:.2f} mV\".format(max_ripple_graph_out*1e3))\n",
    "print(\"The max voltage ripple goal is: {:.2f} mV\".format(D_U_out*U_out*1e3))"
   ]
  },
  {
   "cell_type": "markdown",
   "id": "0dd4494e",
   "metadata": {},
   "source": [
    "### Q5 Input capacitor selection"
   ]
  },
  {
   "cell_type": "code",
   "execution_count": 9,
   "id": "6ff82746",
   "metadata": {},
   "outputs": [
    {
     "name": "stdout",
     "output_type": "stream",
     "text": [
      "The input safety voltage is: 72.00 V\n",
      "current input rms: 3.24 A\n",
      "DIDn't found EXACT values, here a little simulation, based on above values!!!\n",
      "C_in_freq_loss: 0.001\n",
      "The calculated capacitor value is: 905.03 µF\n",
      "The value of the previous report is: 625.00 µF\n",
      "The nominal value of the capacitor is: 1500.00 µF\n"
     ]
    }
   ],
   "source": [
    "U_in_safety = 1.2 * U_in_max # V\n",
    "print(\"The input safety voltage is: {:.2f} V\".format(U_in_safety))\n",
    "print(\"current input rms: {:.2f} A\".format(IL_w1_rms*1.15))\n",
    "\n",
    "C_in_R1 = 625.00e-6 # F\n",
    "\n",
    "C_in_nom = 1500e-6 # F\n",
    "\n",
    "print(\"DIDn't found EXACT values, here a little simulation, based on above values!!!\")\n",
    "C_in_freq_loss = (1500 - 1498.4) / 1500 # 0.00106666666666667\n",
    "C_in_volt_loss = 0.396 # 0.4V\n",
    "print(\"C_in_freq_loss: {:.3f}\".format(C_in_freq_loss))\n",
    "C_in_min = C_in_nom * (1 - C_in_volt_loss) * (1 - C_in_freq_loss)\n",
    "print(\"The calculated capacitor value is: {:.2f} µF\".format(C_in_min*1e6))\n",
    "print(\"The value of the previous report is: {:.2f} µF\".format(C_in_R1*1e6))\n",
    "print(\"The nominal value of the capacitor is: {:.2f} µF\".format(C_in_nom*1e6))\n",
    "# C_in_freq_loss = (1000 - 999.2) / 1000 # 0.0008\n",
    "# C_in_volt_loss = 0.396 # 0.4V\n",
    "# C_in_min = C_in_nom * (1 - C_in_volt_loss) * (1 - C_in_freq_loss)\n",
    "# print(\"The calculated capacitor value is: {:.2f} µF\".format(C_in_min*1e6))"
   ]
  },
  {
   "cell_type": "markdown",
   "id": "85b5ee34",
   "metadata": {},
   "source": [
    "### Q6 discharge resistor"
   ]
  },
  {
   "cell_type": "code",
   "execution_count": 18,
   "id": "fb77b628",
   "metadata": {},
   "outputs": [
    {
     "name": "stdout",
     "output_type": "stream",
     "text": [
      "The maximum resistor value to discharge the capacitor in 1 min is: 287.59 kOhm\n",
      "The maximum resistor value to discharge the capacitor in 1 min is: 119.83 kOhm\n",
      "The power loss in the input resistor is: 30.04 mW\n"
     ]
    }
   ],
   "source": [
    "#maximum resistor value to discharge capacitor in 1 min\n",
    "R_discharge = np.log(1/0.05) * 60 / C_in_R1\n",
    "print(\"The maximum resistor value to discharge the capacitor in 1 min is: {:.2f} kOhm\".format(R_discharge*1e-3))\n",
    "\n",
    "R_in = np.log(1/0.05) * 60 / C_in_nom\n",
    "print(\"The maximum resistor value to discharge the capacitor in 1 min is: {:.2f} kOhm\".format(R_in*1e-3))\n",
    "\n",
    "P_R_in = U_in_max**2 / R_in # W\n",
    "print(\"The power loss in the input resistor is: {:.2f} mW\".format(P_R_in*1e3))"
   ]
  },
  {
   "cell_type": "markdown",
   "id": "1e1abc92",
   "metadata": {},
   "source": [
    "### Q7"
   ]
  },
  {
   "cell_type": "code",
   "execution_count": 19,
   "id": "7e204e4d",
   "metadata": {},
   "outputs": [
    {
     "name": "stdout",
     "output_type": "stream",
     "text": [
      "The time constant is: 5.64 ms\n",
      "The minimum resistor value is: 12.00 kOhm\n",
      "The minimum capacitor value is: 0.47 µF\n",
      "The time constant is: 5.64 ms\n",
      "The minimum resistor value is: 10.00 kOhm\n",
      "The minimum capacitor value is: 0.56 µF\n"
     ]
    }
   ],
   "source": [
    "RF_min_data = 12e3 # Ohm\n",
    "C_F_data = 470e-9 # F\n",
    "tau_data = RF_min_data * C_F_data # s\n",
    "\n",
    "print(\"The time constant is: {:.2f} ms\".format(tau_data*1e3))\n",
    "print(\"The minimum resistor value is: {:.2f} kOhm\".format(RF_min_data*1e-3))\n",
    "print(\"The minimum capacitor value is: {:.2f} µF\".format(C_F_data*1e6))\n",
    "\n",
    "RF_min_val = 10e3 # Ohm\n",
    "C_F_val = tau_data / RF_min_val # F\n",
    "print(\"The time constant is: {:.2f} ms\".format(tau_data*1e3))\n",
    "print(\"The minimum resistor value is: {:.2f} kOhm\".format(RF_min_val*1e-3))\n",
    "print(\"The minimum capacitor value is: {:.2f} µF\".format(C_F_val*1e6))\n"
   ]
  }
 ],
 "metadata": {
  "kernelspec": {
   "display_name": "Python 3",
   "language": "python",
   "name": "python3"
  },
  "language_info": {
   "codemirror_mode": {
    "name": "ipython",
    "version": 3
   },
   "file_extension": ".py",
   "mimetype": "text/x-python",
   "name": "python",
   "nbconvert_exporter": "python",
   "pygments_lexer": "ipython3",
   "version": "3.12.0"
  }
 },
 "nbformat": 4,
 "nbformat_minor": 5
}
