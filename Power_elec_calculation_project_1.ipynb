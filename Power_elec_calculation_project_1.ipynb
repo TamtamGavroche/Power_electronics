{
 "cells": [
  {
   "cell_type": "markdown",
   "metadata": {},
   "source": [
    "## Script for Equations of Power Elec project 1"
   ]
  },
  {
   "cell_type": "code",
   "execution_count": 1,
   "metadata": {},
   "outputs": [],
   "source": [
    "import numpy as np\n",
    "import matplotlib.pyplot as plt"
   ]
  },
  {
   "cell_type": "code",
   "execution_count": 53,
   "metadata": {},
   "outputs": [],
   "source": [
    "######################\n",
    "#   CONSTANT VALUES  #\n",
    "######################\n",
    "\n",
    "P_out_nom = 50     # W\n",
    "P_out_min = 10     # W\n",
    "U_in_nom  = 50     # V\n",
    "U_in_min  = 30     # V\n",
    "U_in_max  = 60     # V\n",
    "U_out     = 24     # V\n",
    "D_U_out   = 0.02   # (2%)\n",
    "f_sw      = 360000 # Hz"
   ]
  },
  {
   "cell_type": "markdown",
   "metadata": {},
   "source": [
    "### Q1: Voltage transfer function"
   ]
  },
  {
   "cell_type": "code",
   "execution_count": 54,
   "metadata": {},
   "outputs": [],
   "source": [
    "\n",
    "# D = U_out * N / (U_out * n + U_in_nom)\n",
    "\n",
    "# U_out_div_U_in =   D / (n* (1 - D))\n",
    "\n"
   ]
  },
  {
   "cell_type": "markdown",
   "metadata": {},
   "source": [
    "### Q2: Winding ratio"
   ]
  },
  {
   "cell_type": "code",
   "execution_count": 55,
   "metadata": {},
   "outputs": [],
   "source": [
    "D_max = 0.48 # value from the datasheet\n"
   ]
  },
  {
   "cell_type": "code",
   "execution_count": 56,
   "metadata": {},
   "outputs": [
    {
     "name": "stdout",
     "output_type": "stream",
     "text": [
      "N =  1.1538461538461537\n"
     ]
    }
   ],
   "source": [
    "N = (D_max *U_in_min)/(U_out * (1 - D_max))\n",
    "print(\"N = \", N)"
   ]
  },
  {
   "cell_type": "markdown",
   "metadata": {},
   "source": [
    "### Q3 : Duty cycle"
   ]
  },
  {
   "cell_type": "code",
   "execution_count": 57,
   "metadata": {},
   "outputs": [
    {
     "name": "stdout",
     "output_type": "stream",
     "text": [
      "D_U_in_nom =  0.3564356435643564\n",
      "D_U_in_min =  0.4799999999999999\n",
      "D_U_in_max =  0.3157894736842105\n"
     ]
    }
   ],
   "source": [
    "D_U_in_nom = (U_out * N) / (U_out*N + U_in_nom)\n",
    "print(\"D_U_in_nom = \", D_U_in_nom)\n",
    "\n",
    "D_U_in_min = (U_out * N) / (U_out*N + U_in_min)\n",
    "print(\"D_U_in_min = \", D_U_in_min)\n",
    "\n",
    "D_U_in_max = (U_out * N) / (U_out*N + U_in_max)\n",
    "print(\"D_U_in_max = \", D_U_in_max)"
   ]
  },
  {
   "cell_type": "markdown",
   "metadata": {},
   "source": [
    "### Q4 : Magnetizing inductance and stray inductance"
   ]
  },
  {
   "cell_type": "code",
   "execution_count": 58,
   "metadata": {},
   "outputs": [
    {
     "name": "stdout",
     "output_type": "stream",
     "text": [
      "L_m =  5.148514851485148e-05\n",
      "L_sigma =  2.574257425742574e-06\n"
     ]
    }
   ],
   "source": [
    "L_m = (U_in_nom * D_U_in_nom * U_out) / (2 * N * f_sw * P_out_min)\n",
    "print(\"L_m = \", L_m)\n",
    "\n",
    "\n",
    "L_sigma = 0.05 * L_m #given by the professor\n",
    "print(\"L_sigma = \", L_sigma)"
   ]
  },
  {
   "cell_type": "markdown",
   "metadata": {},
   "source": [
    "### Q5 : output capacitance"
   ]
  },
  {
   "cell_type": "code",
   "execution_count": 59,
   "metadata": {},
   "outputs": [
    {
     "name": "stdout",
     "output_type": "stream",
     "text": [
      "R_L_min =  57.6\n",
      "C_out =  1.1574074074074074e-06\n"
     ]
    }
   ],
   "source": [
    "R_L_min = (U_out**2) / P_out_min\n",
    "print(\"R_L_min = \", R_L_min)\n",
    "\n",
    "C_out = D_max /(f_sw * R_L_min * D_U_out) \n",
    "print(\"C_out = \", C_out)"
   ]
  },
  {
   "cell_type": "markdown",
   "metadata": {},
   "source": [
    "### Q6 : input capacitance"
   ]
  },
  {
   "cell_type": "code",
   "execution_count": 60,
   "metadata": {},
   "outputs": [],
   "source": [
    "t_UP = 0.01 #s (10ms)"
   ]
  },
  {
   "cell_type": "code",
   "execution_count": 61,
   "metadata": {},
   "outputs": [
    {
     "name": "stdout",
     "output_type": "stream",
     "text": [
      "C_in =  0.000625\n"
     ]
    }
   ],
   "source": [
    "C_in = 2 * P_out_nom * t_UP / (U_in_nom**2 - U_in_min**2)\n",
    "print(\"C_in = \", C_in)"
   ]
  },
  {
   "cell_type": "markdown",
   "metadata": {},
   "source": [
    "### Q7- Q9 on plecs"
   ]
  },
  {
   "cell_type": "markdown",
   "metadata": {},
   "source": [
    "## Semiconductor devices"
   ]
  },
  {
   "cell_type": "markdown",
   "metadata": {},
   "source": [
    "### Q10: Transistor stresses"
   ]
  },
  {
   "cell_type": "code",
   "execution_count": 62,
   "metadata": {},
   "outputs": [
    {
     "name": "stdout",
     "output_type": "stream",
     "text": [
      "U_T1_max_normal =  50\n",
      "U_T1_max =  60\n",
      "U_T2_max =  60\n",
      "U_t2_max_normal =  50\n",
      "I_T1_max_normal =  3.2634310134310134\n",
      "I_T1_MAX =  3.3550061050061046\n",
      "I_T2_max_normal =  3.2634310134310134\n",
      "I_T_MAX =  3.3550061050061046\n"
     ]
    }
   ],
   "source": [
    "U_T1_max_normal = U_in_nom\n",
    "print(\"U_T1_max_normal = \", U_T1_max_normal)\n",
    "\n",
    "U_T1_MAX = U_in_max\n",
    "print(\"U_T1_max = \", U_T1_MAX)\n",
    "\n",
    "U_T2_MAX = U_in_max\n",
    "print(\"U_T2_max = \", U_T2_MAX)\n",
    "\n",
    "U_T2_max_normal = U_T1_max_normal \n",
    "print(\"U_t2_max_normal = \", U_T2_max_normal)\n",
    "\n",
    "I_T1_max_normal = P_out_nom/(N * (1-D_U_in_nom) * U_out) + U_in_nom * D_U_in_nom / (2 * f_sw * (L_m + L_sigma))\n",
    "print(\"I_T1_max_normal = \", I_T1_max_normal)\n",
    "\n",
    "I_T1_MAX = P_out_nom/(N * (1-D_U_in_nom) * U_out) + U_in_max * D_U_in_nom / (2 * f_sw * (L_m + L_sigma))\n",
    "print(\"I_T1_MAX = \", I_T1_MAX)\n",
    "\n",
    "I_T2_max_normal = I_T1_max_normal\n",
    "print(\"I_T2_max_normal = \", I_T2_max_normal)\n",
    "\n",
    "I_T = I_T2_max_normal\n",
    "\n",
    "\n",
    "I_T_MAX = I_T1_MAX\n",
    "print(\"I_T_MAX = \", I_T_MAX)\n",
    "\n"
   ]
  },
  {
   "cell_type": "markdown",
   "metadata": {},
   "source": [
    "### Q11 : Rectifiying diode stresses"
   ]
  },
  {
   "cell_type": "code",
   "execution_count": 63,
   "metadata": {},
   "outputs": [
    {
     "name": "stdout",
     "output_type": "stream",
     "text": [
      "U_D_rec_max =  67.33333333333334\n",
      "U_D_rec_MAX =  76.0\n",
      "i_D_rec_max =  2.4038461538461537\n"
     ]
    }
   ],
   "source": [
    "U_D_rec_max = U_in_nom/N + U_out\n",
    "print(\"U_D_rec_max = \", U_D_rec_max)\n",
    "\n",
    "U_D_rec_MAX = U_in_max/N + U_out\n",
    "print(\"U_D_rec_MAX = \", U_D_rec_MAX)\n",
    "\n",
    "\n",
    "i_D_rec_max = N * P_out_nom / U_out\n",
    "print(\"i_D_rec_max = \", i_D_rec_max)"
   ]
  },
  {
   "cell_type": "markdown",
   "metadata": {},
   "source": [
    "### Q12: clamping diodes stresses"
   ]
  },
  {
   "cell_type": "code",
   "execution_count": 64,
   "metadata": {},
   "outputs": [
    {
     "name": "stdout",
     "output_type": "stream",
     "text": [
      "U_D_C1_max =  50\n",
      "U_D_C1_MAX 60\n",
      "U_D_C2_max =  50\n",
      "U_D_C2_MAX 60\n",
      "I_out_nom =  2.0833333333333335\n",
      "I_D_C1_max =  3.263431013431014\n",
      "I_D_C1_MAX =  3.3550061050061055\n",
      "I_D_C2_max =  3.263431013431014\n",
      "I_D_C2_MAX =  3.3550061050061055\n"
     ]
    }
   ],
   "source": [
    "U_D_C1_max = U_in_nom\n",
    "print(\"U_D_C1_max = \", U_D_C1_max)\n",
    "\n",
    "U_D_C1_MAX = U_in_max #worst case\n",
    "print(\"U_D_C1_MAX\", U_D_C1_MAX)\n",
    "\n",
    "\n",
    "U_D_C2_max = U_D_C1_max\n",
    "print(\"U_D_C2_max = \", U_D_C2_max)\n",
    "\n",
    "U_D_C2_MAX = U_in_max #worst case\n",
    "print(\"U_D_C2_MAX\", U_D_C2_MAX)\n",
    "\n",
    "I_out_nom = P_out_nom / U_out\n",
    "print(\"I_out_nom = \", I_out_nom)\n",
    "\n",
    "\n",
    "\n",
    "I_D_C1_max = (U_in_nom * D_U_in_nom) / (2 * f_sw * (L_sigma + L_m))  + I_out_nom / (N * (1 -D_U_in_nom ))\n",
    "print(\"I_D_C1_max = \", I_D_C1_max)\n",
    "\n",
    "I_D_C1_MAX = (U_in_max * D_U_in_nom) / (2 * f_sw * (L_sigma + L_m))  + I_out_nom / (N * (1 -D_U_in_nom ))\n",
    "print(\"I_D_C1_MAX = \", I_D_C1_MAX)\n",
    "\n",
    "I_D_C2_max = I_D_C1_max\n",
    "print(\"I_D_C2_max = \", I_D_C2_max)\n",
    "\n",
    "I_D_C2_MAX = I_D_C1_MAX\n",
    "print(\"I_D_C2_MAX = \", I_D_C2_MAX)\n",
    "\n",
    "\n",
    "I_D_C = I_D_C1_max\n",
    "I_D_C_MAX = I_D_C1_MAX"
   ]
  },
  {
   "cell_type": "markdown",
   "metadata": {},
   "source": [
    "### Q14: Semicondcutor selection"
   ]
  },
  {
   "cell_type": "code",
   "execution_count": 65,
   "metadata": {},
   "outputs": [],
   "source": [
    "x = 1.5\n"
   ]
  },
  {
   "cell_type": "code",
   "execution_count": 66,
   "metadata": {},
   "outputs": [
    {
     "name": "stdout",
     "output_type": "stream",
     "text": [
      "I_T_select =  4.89514652014652\n",
      "I_T_MAX_select =  5.032509157509157\n"
     ]
    }
   ],
   "source": [
    "I_T_select = I_T * x\n",
    "print(\"I_T_select = \", I_T_select)\n",
    "\n",
    "I_T_MAX_select = I_T_MAX * x\n",
    "print(\"I_T_MAX_select = \", I_T_MAX_select)"
   ]
  },
  {
   "cell_type": "code",
   "execution_count": 67,
   "metadata": {},
   "outputs": [
    {
     "name": "stdout",
     "output_type": "stream",
     "text": [
      "i_D_rec_max_select =  3.605769230769231\n",
      "U_D_rec_MAX_select =  114.0\n"
     ]
    }
   ],
   "source": [
    "i_D_rec_max_select = i_D_rec_max * x\n",
    "print(\"i_D_rec_max_select = \", i_D_rec_max_select)\n",
    "\n",
    "\n",
    "U_D_rec_MAX_select = U_D_rec_MAX * x\n",
    "print(\"U_D_rec_MAX_select = \", U_D_rec_MAX_select)  \n"
   ]
  },
  {
   "cell_type": "code",
   "execution_count": 68,
   "metadata": {},
   "outputs": [
    {
     "name": "stdout",
     "output_type": "stream",
     "text": [
      "I_D_C_select =  4.895146520146521\n",
      "I_D_C_select =  4.895146520146521\n"
     ]
    }
   ],
   "source": [
    "\n",
    "I_D_C_select = I_D_C * x \n",
    "print(\"I_D_C_select = \", I_D_C_select)\n",
    "\n",
    "\n",
    "I_D_C_MAX_selct = I_D_C_MAX * x\n",
    "print(\"I_D_C_select = \", I_D_C_select)"
   ]
  },
  {
   "cell_type": "markdown",
   "metadata": {},
   "source": [
    "### Q15: TRANSISTOR CURRENT"
   ]
  },
  {
   "cell_type": "code",
   "execution_count": 69,
   "metadata": {},
   "outputs": [
    {
     "name": "stdout",
     "output_type": "stream",
     "text": [
      "T_s =  2.777777777777778e-06\n"
     ]
    }
   ],
   "source": [
    "T_s = 1/f_sw\n",
    "print(\"T_s = \", T_s)"
   ]
  }
 ],
 "metadata": {
  "kernelspec": {
   "display_name": "Python 3",
   "language": "python",
   "name": "python3"
  },
  "language_info": {
   "codemirror_mode": {
    "name": "ipython",
    "version": 3
   },
   "file_extension": ".py",
   "mimetype": "text/x-python",
   "name": "python",
   "nbconvert_exporter": "python",
   "pygments_lexer": "ipython3",
   "version": "3.12.0"
  }
 },
 "nbformat": 4,
 "nbformat_minor": 2
}
